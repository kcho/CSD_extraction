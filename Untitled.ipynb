{
 "cells": [
  {
   "cell_type": "markdown",
   "metadata": {},
   "source": [
    "# Hi people\n",
    "\n",
    "## Below codes are\n",
    "\n",
    "### python script that extract location of the CSD strengths"
   ]
  },
  {
   "cell_type": "markdown",
   "metadata": {},
   "source": [
    "> import libraries"
   ]
  },
  {
   "cell_type": "code",
   "execution_count": 343,
   "metadata": {
    "collapsed": true
   },
   "outputs": [],
   "source": [
    "import re\n",
    "import pandas as pd\n",
    "import numpy as np\n",
    "import os"
   ]
  },
  {
   "cell_type": "markdown",
   "metadata": {},
   "source": [
    "> Talairach image read"
   ]
  },
  {
   "cell_type": "code",
   "execution_count": 115,
   "metadata": {
    "collapsed": false
   },
   "outputs": [],
   "source": [
    "with open('Talairach.xml','r') as f:\n",
    "    a=f.readlines()"
   ]
  },
  {
   "cell_type": "code",
   "execution_count": 116,
   "metadata": {
    "collapsed": false
   },
   "outputs": [],
   "source": [
    "labelLines=[x for x in a if x.startswith('<label')]"
   ]
  },
  {
   "cell_type": "code",
   "execution_count": 117,
   "metadata": {
    "collapsed": false
   },
   "outputs": [
    {
     "data": {
      "text/plain": [
       "'<label index=\"30\" x=\"25\" y=\"63\" z=\"11\">Right Cerebrum.Temporal Lobe.Middle Temporal Gyrus.*.*</label>\\n'"
      ]
     },
     "execution_count": 117,
     "metadata": {},
     "output_type": "execute_result"
    }
   ],
   "source": [
    "labelLines[30]"
   ]
  },
  {
   "cell_type": "code",
   "execution_count": 118,
   "metadata": {
    "collapsed": false
   },
   "outputs": [],
   "source": [
    "reList = [re.search('<label index=\"(\\d+)\".+>(.+)</label>\\n',x) for x in labelLines]"
   ]
  },
  {
   "cell_type": "code",
   "execution_count": 119,
   "metadata": {
    "collapsed": false
   },
   "outputs": [],
   "source": [
    "numNameList = [(x.group(1),x.group(2)) for x in reList]"
   ]
  },
  {
   "cell_type": "code",
   "execution_count": 120,
   "metadata": {
    "collapsed": false
   },
   "outputs": [],
   "source": [
    "numNameDict = dict(numNameList)"
   ]
  },
  {
   "cell_type": "code",
   "execution_count": 121,
   "metadata": {
    "collapsed": false
   },
   "outputs": [
    {
     "data": {
      "text/plain": [
       "{'344': 'Right Brainstem.Midbrain.*.Gray Matter.Red Nucleus',\n",
       " '0': '*.*.*.*.*',\n",
       " '346': 'Right Cerebrum.Limbic Lobe.*.White Matter.*',\n",
       " '347': 'Left Cerebrum.Sub-lobar.Extra-Nuclear.White Matter.*',\n",
       " '340': 'Right Cerebrum.Limbic Lobe.Sub-Gyral.Gray Matter.Hippocampus',\n",
       " '341': 'Left Brainstem.Midbrain.*.Gray Matter.Substania Nigra',\n",
       " '342': 'Right Brainstem.Midbrain.*.Gray Matter.Substania Nigra',\n",
       " '343': 'Left Brainstem.Midbrain.*.Gray Matter.Red Nucleus',\n",
       " '810': 'Right Cerebrum.Frontal Lobe.Inferior Frontal Gyrus.Gray Matter.Brodmann area 6',\n",
       " '811': 'Left Cerebrum.*.Inferior Frontal Gyrus.*.*',\n",
       " '812': '*.*.Middle Frontal Gyrus.*.*',\n",
       " '813': 'Left Cerebrum.Limbic Lobe.Anterior Cingulate.Gray Matter.Brodmann area 9',\n",
       " '348': 'Right Cerebrum.Sub-lobar.Extra-Nuclear.White Matter.*',\n",
       " '349': 'Left Cerebrum.Temporal Lobe.*.Gray Matter.Caudate Tail',\n",
       " '816': 'Right Cerebrum.Limbic Lobe.Anterior Cingulate.Gray Matter.Brodmann area 9',\n",
       " '817': 'Left Cerebrum.*.Superior Frontal Gyrus.*.*',\n",
       " '595': 'Left Cerebrum.Sub-lobar.Extra-Nuclear.White Matter.Lateral Globus Pallidus',\n",
       " '719': 'Right Cerebrum.Temporal Lobe.Transverse Temporal Gyrus.Gray Matter.Brodmann area 41',\n",
       " '718': 'Right Cerebrum.Temporal Lobe.Transverse Temporal Gyrus.White Matter.*',\n",
       " '717': 'Left Cerebrum.Temporal Lobe.Transverse Temporal Gyrus.White Matter.*',\n",
       " '716': '*.*.Superior Temporal Gyrus.*.*',\n",
       " '715': 'Right Cerebrum.Limbic Lobe.Sub-Gyral.White Matter.Corpus Callosum',\n",
       " '714': 'Inter-Hemispheric.Limbic Lobe.Extra-Nuclear.White Matter.Corpus Callosum',\n",
       " '713': 'Left Cerebrum.Limbic Lobe.Sub-Gyral.White Matter.Corpus Callosum',\n",
       " '712': 'Right Cerebrum.Limbic Lobe.Extra-Nuclear.White Matter.Corpus Callosum',\n",
       " '711': 'Left Cerebrum.Limbic Lobe.Extra-Nuclear.White Matter.Corpus Callosum',\n",
       " '710': 'Inter-Hemispheric.Limbic Lobe.Posterior Cingulate.*.*',\n",
       " '915': 'Left Cerebrum.Limbic Lobe.Cingulate Gyrus.Gray Matter.Brodmann area 31',\n",
       " '914': 'Right Cerebrum.Limbic Lobe.Precuneus.*.*',\n",
       " '606': 'Right Cerebrum.Limbic Lobe.Anterior Cingulate.Gray Matter.*',\n",
       " '917': 'Left Cerebrum.Temporal Lobe.Sub-Gyral.Gray Matter.Brodmann area 39',\n",
       " '594': 'Right Cerebrum.Sub-lobar.Extra-Nuclear.White Matter.Lateral Globus Pallidus',\n",
       " '736': 'Left Cerebrum.*.Transverse Temporal Gyrus.*.*',\n",
       " '916': 'Right Cerebrum.Limbic Lobe.Cingulate Gyrus.Gray Matter.Brodmann area 31',\n",
       " '1061': 'Left Cerebrum.Parietal Lobe.Superior Parietal Lobule.Gray Matter.Brodmann area 40',\n",
       " '911': 'Left Cerebrum.Limbic Lobe.Precuneus.*.*',\n",
       " '1063': 'Left Cerebrum.Parietal Lobe.Paracentral Lobule.White Matter.*',\n",
       " '1062': 'Right Cerebrum.Parietal Lobe.Superior Parietal Lobule.Gray Matter.Brodmann area 40',\n",
       " '1065': 'Left Cerebrum.Parietal Lobe.Paracentral Lobule.Gray Matter.Brodmann area 7',\n",
       " '1064': 'Left Cerebrum.Parietal Lobe.Paracentral Lobule.Gray Matter.Brodmann area 5',\n",
       " '619': 'Inter-Hemispheric.Frontal Lobe.*.*.*',\n",
       " '910': 'Right Cerebrum.Occipital Lobe.Superior Occipital Gyrus.Gray Matter.Brodmann area 39',\n",
       " '913': 'Right Cerebrum.Limbic Lobe.Cingulate Gyrus.*.*',\n",
       " '298': 'Left Cerebrum.Frontal Lobe.Subcallosal Gyrus.Gray Matter.Brodmann area 47',\n",
       " '299': 'Right Cerebrum.Frontal Lobe.Subcallosal Gyrus.Gray Matter.Brodmann area 47',\n",
       " '296': 'Left Cerebrum.Frontal Lobe.Subcallosal Gyrus.Gray Matter.Brodmann area 13',\n",
       " '297': 'Right Cerebrum.Frontal Lobe.Subcallosal Gyrus.Gray Matter.Brodmann area 13',\n",
       " '294': 'Left Cerebrum.Frontal Lobe.Inferior Frontal Gyrus.Gray Matter.Brodmann area 13',\n",
       " '295': 'Right Cerebrum.Frontal Lobe.Inferior Frontal Gyrus.Gray Matter.Brodmann area 13',\n",
       " '292': 'Right Cerebrum.Temporal Lobe.Inferior Frontal Gyrus.Gray Matter.Brodmann area 13',\n",
       " '293': 'Right Cerebrum.Temporal Lobe.Inferior Frontal Gyrus.White Matter.*',\n",
       " '290': 'Left Cerebrum.Frontal Lobe.Subcallosal Gyrus.White Matter.*',\n",
       " '291': 'Right Cerebrum.Frontal Lobe.Subcallosal Gyrus.White Matter.*',\n",
       " '591': 'Left Cerebrum.Temporal Lobe.Insula.*.*',\n",
       " '590': 'Right Cerebrum.Temporal Lobe.Insula.Gray Matter.Brodmann area 13',\n",
       " '593': 'Right Cerebrum.Sub-lobar.Extra-Nuclear.White Matter.Medial Globus Pallidus',\n",
       " '592': 'Left Cerebrum.Sub-lobar.Insula.Gray Matter.*',\n",
       " '199': 'Right Cerebrum.Frontal Lobe.Middle Frontal Gyrus.*.*',\n",
       " '198': 'Right Cerebrum.Frontal Lobe.Middle Frontal Gyrus.Gray Matter.Brodmann area 11',\n",
       " '597': 'Right Cerebrum.Sub-lobar.Extra-Nuclear.White Matter.Putamen',\n",
       " '596': 'Left Cerebrum.Sub-lobar.Extra-Nuclear.White Matter.Putamen',\n",
       " '195': 'Left Cerebrum.Frontal Lobe.Middle Frontal Gyrus.White Matter.*',\n",
       " '194': 'Right Cerebrum.Frontal Lobe.Sub-Gyral.White Matter.*',\n",
       " '197': 'Left Cerebrum.Frontal Lobe.Middle Frontal Gyrus.Gray Matter.Brodmann area 11',\n",
       " '196': 'Right Cerebrum.Frontal Lobe.Middle Frontal Gyrus.White Matter.*',\n",
       " '191': 'Left Cerebrum.Frontal Lobe.Inferior Frontal Gyrus.Gray Matter.Brodmann area 11',\n",
       " '190': 'Right Cerebrum.Frontal Lobe.Inferior Frontal Gyrus.White Matter.*',\n",
       " '193': 'Left Cerebrum.Frontal Lobe.Sub-Gyral.White Matter.*',\n",
       " '192': 'Right Cerebrum.Frontal Lobe.Inferior Frontal Gyrus.Gray Matter.Brodmann area 11',\n",
       " '270': 'Left Cerebrum.Limbic Lobe.Parahippocampal Gyrus.Gray Matter.Brodmann area 37',\n",
       " '271': 'Right Cerebrum.Limbic Lobe.Parahippocampal Gyrus.Gray Matter.Brodmann area 37',\n",
       " '272': 'Right Cerebrum.Limbic Lobe.*.Gray Matter.Brodmann area 35',\n",
       " '273': '*.*.*.White Matter.Optic Tract',\n",
       " '274': '*.*.*.Gray Matter.Hypothalamus',\n",
       " '275': 'Right Cerebrum.Temporal Lobe.Sub-Gyral.Gray Matter.Brodmann area 21',\n",
       " '276': 'Right Cerebrum.Temporal Lobe.Superior Temporal Gyrus.Gray Matter.Brodmann area 21',\n",
       " '277': 'Left Cerebrum.Frontal Lobe.Subcallosal Gyrus.*.*',\n",
       " '278': 'Right Cerebrum.Frontal Lobe.Subcallosal Gyrus.*.*',\n",
       " '279': 'Left Cerebrum.Limbic Lobe.Subcallosal Gyrus.Gray Matter.Brodmann area 34',\n",
       " '738': 'Left Cerebrum.Temporal Lobe.Precentral Gyrus.Gray Matter.Brodmann area 43',\n",
       " '1067': 'Right Cerebrum.Parietal Lobe.Paracentral Lobule.Gray Matter.Brodmann area 5',\n",
       " '524': 'Inter-Hemispheric.*.Lingual Gyrus.*.*',\n",
       " '525': 'Right Cerebrum.Occipital Lobe.Lingual Gyrus.Gray Matter.*',\n",
       " '526': 'Left Cerebrum.Limbic Lobe.Lingual Gyrus.Gray Matter.*',\n",
       " '527': '*.*.Middle Temporal Gyrus.Gray Matter.*',\n",
       " '520': 'Left Cerebrum.Occipital Lobe.Middle Occipital Gyrus.Gray Matter.*',\n",
       " '521': 'Right Cerebrum.Occipital Lobe.Middle Occipital Gyrus.Gray Matter.*',\n",
       " '522': 'Right Cerebrum.*.*.Gray Matter.*',\n",
       " '523': '*.*.Middle Occipital Gyrus.Gray Matter.*',\n",
       " '1014': 'Left Cerebrum.Parietal Lobe.Inferior Parietal Lobule.Gray Matter.Brodmann area 39',\n",
       " '1015': 'Right Cerebrum.Parietal Lobe.Inferior Parietal Lobule.Gray Matter.Brodmann area 39',\n",
       " '599': 'Left Cerebrum.Frontal Lobe.Inferior Frontal Gyrus.Gray Matter.*',\n",
       " '1017': 'Right Cerebrum.Frontal Lobe.Sub-Gyral.Gray Matter.Brodmann area 31',\n",
       " '528': 'Left Cerebrum.Temporal Lobe.Middle Temporal Gyrus.Gray Matter.*',\n",
       " '529': 'Left Cerebrum.Sub-lobar.Thalamus.Gray Matter.*',\n",
       " '994': 'Left Cerebrum.Limbic Lobe.Sub-Gyral.Gray Matter.Brodmann area 31',\n",
       " '1013': '*.*.Precuneus.*.*',\n",
       " '1025': 'Left Cerebrum.Frontal Lobe.Middle Frontal Gyrus.Gray Matter.Brodmann area 8',\n",
       " '449': 'Left Cerebrum.Sub-lobar.Claustrum.Gray Matter.*',\n",
       " '448': 'Left Cerebrum.Sub-lobar.Insula.*.*',\n",
       " '443': 'Left Cerebrum.Sub-lobar.Insula.Gray Matter.Brodmann area 22',\n",
       " '442': 'Left Cerebrum.Temporal Lobe.Superior Temporal Gyrus.Gray Matter.Brodmann area 22',\n",
       " '441': 'Right Cerebrum.Sub-lobar.Insula.White Matter.*',\n",
       " '440': 'Right Cerebrum.Midbrain.*.*.*',\n",
       " '447': 'Left Cerebrum.Sub-lobar.Insula.Gray Matter.Brodmann area 13',\n",
       " '446': 'Right Cerebrum.Temporal Lobe.Superior Temporal Gyrus.Gray Matter.Brodmann area 22',\n",
       " '445': 'Right Cerebrum.Sub-lobar.Insula.Gray Matter.Brodmann area 22',\n",
       " '444': 'Right Cerebrum.Sub-lobar.Insula.Gray Matter.Brodmann area 13',\n",
       " '108': 'Right Cerebrum.Frontal Lobe.*.*.*',\n",
       " '109': 'Right Cerebrum.Frontal Lobe.Orbital Gyrus.Gray Matter.Brodmann area 11',\n",
       " '102': 'Left Cerebrum.Frontal Lobe.Orbital Gyrus.Gray Matter.Brodmann area 11',\n",
       " '103': 'Right Cerebrum.*.Orbital Gyrus.Gray Matter.Brodmann area 11',\n",
       " '100': 'Left Cerebrum.*.Superior Temporal Gyrus.*.*',\n",
       " '101': 'Left Cerebrum.*.Superior Temporal Gyrus.Gray Matter.Brodmann area 38',\n",
       " '106': 'Left Cerebrum.Frontal Lobe.*.*.*',\n",
       " '107': 'Inter-Hemispheric.*.*.*.*',\n",
       " '104': '*.Frontal Lobe.Orbital Gyrus.*.*',\n",
       " '105': 'Left Cerebrum.Frontal Lobe.Orbital Gyrus.*.*',\n",
       " '902': 'Left Cerebrum.Frontal Lobe.Superior Frontal Gyrus.Gray Matter.Brodmann area 9',\n",
       " '903': 'Right Cerebrum.Frontal Lobe.Superior Frontal Gyrus.Gray Matter.Brodmann area 9',\n",
       " '39': 'Left Cerebrum.Temporal Lobe.Superior Temporal Gyrus.White Matter.*',\n",
       " '38': 'Left Cerebrum.Temporal Lobe.Superior Temporal Gyrus.Gray Matter.Brodmann area 38',\n",
       " '906': 'Left Cerebrum.Temporal Lobe.Superior Occipital Gyrus.Gray Matter.Brodmann area 39',\n",
       " '907': 'Right Cerebrum.Temporal Lobe.Superior Occipital Gyrus.Gray Matter.Brodmann area 39',\n",
       " '904': 'Inter-Hemispheric.*.Superior Frontal Gyrus.*.*',\n",
       " '905': 'Right Cerebrum.Occipital Lobe.Cuneus.Gray Matter.Brodmann area 31',\n",
       " '33': 'Left Cerebrum.Temporal Lobe.Middle Temporal Gyrus.Gray Matter.Brodmann area 38',\n",
       " '32': 'Left Cerebrum.Temporal Lobe.Middle Temporal Gyrus.*.*',\n",
       " '31': 'Right Cerebrum.Limbic Lobe.Uncus.*.*',\n",
       " '30': 'Right Cerebrum.Temporal Lobe.Middle Temporal Gyrus.*.*',\n",
       " '37': 'Left Cerebrum.Limbic Lobe.Middle Temporal Gyrus.White Matter.*',\n",
       " '36': 'Right Cerebrum.Temporal Lobe.Middle Temporal Gyrus.Gray Matter.Brodmann area 38',\n",
       " '35': 'Right Cerebrum.Limbic Lobe.Uncus.Gray Matter.Brodmann area 38',\n",
       " '34': 'Left Cerebrum.Limbic Lobe.Uncus.Gray Matter.Brodmann area 38',\n",
       " '641': 'Right Cerebrum.Sub-lobar.Extra-Nuclear.Cerebro-Spinal Fluid.Optic Tract',\n",
       " '640': 'Right Cerebrum.Sub-lobar.Lentiform Nucleus.Gray Matter.*',\n",
       " '643': 'Left Cerebrum.Sub-lobar.Thalamus.Gray Matter.Ventral Lateral Nucleus',\n",
       " '642': 'Right Cerebrum.Sub-lobar.Superior Temporal Gyrus.*.*',\n",
       " '645': 'Right Cerebrum.*.Thalamus.Gray Matter.*',\n",
       " '644': 'Right Cerebrum.Sub-lobar.Thalamus.Gray Matter.Ventral Lateral Nucleus',\n",
       " '438': 'Right Brainstem.Midbrain.Thalamus.Gray Matter.Medial Geniculum Body',\n",
       " '439': 'Left Cerebrum.Sub-lobar.Insula.White Matter.*',\n",
       " '436': 'Right Cerebrum.Sub-lobar.Caudate.Gray Matter.Caudate Tail',\n",
       " '437': 'Left Brainstem.Midbrain.Thalamus.Gray Matter.Medial Geniculum Body',\n",
       " '434': 'Right Cerebrum.Temporal Lobe.*.White Matter.*',\n",
       " '435': 'Left Cerebrum.Sub-lobar.Caudate.Gray Matter.Caudate Tail',\n",
       " '432': 'Left Cerebrum.Limbic Lobe.Parahippocampal Gyrus.Gray Matter.Brodmann area 27',\n",
       " '433': 'Right Cerebrum.Limbic Lobe.Parahippocampal Gyrus.Gray Matter.Brodmann area 27',\n",
       " '430': 'Right Cerebrum.Limbic Lobe.Sub-Gyral.Gray Matter.Brodmann area 30',\n",
       " '431': 'Right Cerebrum.Limbic Lobe.Parahippocampal Gyrus.Gray Matter.Brodmann area 30',\n",
       " '1002': 'Right Cerebrum.Frontal Lobe.Cingulate Gyrus.White Matter.*',\n",
       " '339': 'Left Cerebrum.Limbic Lobe.Sub-Gyral.Gray Matter.Hippocampus',\n",
       " '338': 'Right Cerebrum.Temporal Lobe.Sub-Gyral.Gray Matter.Hippocampus',\n",
       " '335': 'Right Cerebrum.Limbic Lobe.Sub-Gyral.*.*',\n",
       " '334': 'Right Cerebrum.Limbic Lobe.Fusiform Gyrus.Gray Matter.Brodmann area 37',\n",
       " '337': 'Left Cerebrum.Temporal Lobe.Sub-Gyral.Gray Matter.Hippocampus',\n",
       " '336': 'Left Cerebrum.Limbic Lobe.Sub-Gyral.*.*',\n",
       " '331': 'Right Cerebrum.Occipital Lobe.Parahippocampal Gyrus.Gray Matter.Brodmann area 37',\n",
       " '330': 'Right Cerebrum.Occipital Lobe.Fusiform Gyrus.Gray Matter.Brodmann area 37',\n",
       " '333': 'Right Cerebrum.Temporal Lobe.Sub-Gyral.Gray Matter.Brodmann area 37',\n",
       " '332': 'Left Cerebrum.Temporal Lobe.Sub-Gyral.Gray Matter.Brodmann area 37',\n",
       " '744': 'Inter-Hemispheric.Sub-lobar.Lateral Ventricle.Cerebro-Spinal Fluid.*',\n",
       " '1000': 'Right Cerebrum.Parietal Lobe.Sub-Gyral.Gray Matter.Brodmann area 40',\n",
       " '745': 'Right Cerebrum.*.Precentral Gyrus.*.*',\n",
       " '854': 'Left Cerebrum.Temporal Lobe.Cuneus.White Matter.*',\n",
       " '818': 'Left Cerebrum.Temporal Lobe.Middle Temporal Gyrus.Gray Matter.Brodmann area 19',\n",
       " '856': 'Left Cerebrum.Parietal Lobe.Precuneus.Gray Matter.Brodmann area 31',\n",
       " '857': 'Left Cerebrum.Parietal Lobe.Precuneus.Gray Matter.Brodmann area 18',\n",
       " '850': 'Left Cerebrum.Occipital Lobe.Superior Occipital Gyrus.White Matter.*',\n",
       " '851': 'Right Cerebrum.Occipital Lobe.Superior Occipital Gyrus.White Matter.*',\n",
       " '852': 'Left Cerebrum.Temporal Lobe.Superior Occipital Gyrus.*.*',\n",
       " '345': 'Left Cerebrum.Limbic Lobe.Sub-Gyral.Gray Matter.Brodmann area 28',\n",
       " '858': 'Right Cerebrum.Parietal Lobe.Precuneus.Gray Matter.Brodmann area 18',\n",
       " '859': 'Right Cerebrum.Parietal Lobe.Precuneus.Gray Matter.Brodmann area 31',\n",
       " '1081': 'Right Cerebrum.Parietal Lobe.Sub-Gyral.Gray Matter.Brodmann area 7',\n",
       " '748': 'Left Cerebrum.Frontal Lobe.Inferior Frontal Gyrus.Gray Matter.Brodmann area 44',\n",
       " '6': 'Right Brainstem.Medulla.*.*.*',\n",
       " '900': 'Right Cerebrum.Frontal Lobe.Inferior Frontal Gyrus.Gray Matter.Brodmann area 9',\n",
       " '848': 'Left Cerebrum.Occipital Lobe.Superior Occipital Gyrus.Gray Matter.Brodmann area 19',\n",
       " '99': 'Left Cerebrum.*.Middle Temporal Gyrus.*.*',\n",
       " '98': 'Left Cerebrum.*.Inferior Temporal Gyrus.*.*',\n",
       " '844': 'Right Cerebrum.Occipital Lobe.Cuneus.Gray Matter.Brodmann area 19',\n",
       " '1085': 'Left Cerebrum.Frontal Lobe.Precuneus.*.*',\n",
       " '91': '*.Temporal Lobe.Inferior Temporal Gyrus.*.*',\n",
       " '90': '*.Temporal Lobe.*.*.*',\n",
       " '93': 'Left Cerebrum.Limbic Lobe.Inferior Temporal Gyrus.*.*',\n",
       " '92': 'Right Cerebrum.Limbic Lobe.Inferior Temporal Gyrus.*.*',\n",
       " '95': 'Right Cerebrum.Limbic Lobe.Uncus.Gray Matter.Brodmann area 28',\n",
       " '94': 'Left Cerebrum.Limbic Lobe.Uncus.Gray Matter.Brodmann area 28',\n",
       " '97': 'Left Cerebrum.Temporal Lobe.Inferior Temporal Gyrus.Gray Matter.Brodmann area 21',\n",
       " '96': 'Left Cerebrum.Limbic Lobe.Sub-Gyral.White Matter.*',\n",
       " '814': 'Left Cerebrum.Frontal Lobe.Medial Frontal Gyrus.Gray Matter.Brodmann area 9',\n",
       " '1030': 'Right Cerebrum.Limbic Lobe.Sub-Gyral.Gray Matter.Brodmann area 32',\n",
       " '815': 'Right Cerebrum.Frontal Lobe.Medial Frontal Gyrus.Gray Matter.Brodmann area 9',\n",
       " '1098': 'Right Cerebrum.Parietal Lobe.Superior Parietal Lobule.Gray Matter.Brodmann area 5',\n",
       " '1066': 'Right Cerebrum.Parietal Lobe.Paracentral Lobule.Gray Matter.Brodmann area 7',\n",
       " '740': 'Right Cerebrum.Frontal Lobe.Precentral Gyrus.Gray Matter.Brodmann area 43',\n",
       " '741': 'Right Cerebrum.Temporal Lobe.Precentral Gyrus.Gray Matter.Brodmann area 42',\n",
       " '742': 'Left Cerebrum.Temporal Lobe.Precentral Gyrus.Gray Matter.Brodmann area 42',\n",
       " '743': 'Left Cerebrum.*.Precentral Gyrus.*.*',\n",
       " '559': '*.*.Culmen of Vermis.*.*',\n",
       " '558': 'Left Cerebrum.Occipital Lobe.Middle Temporal Gyrus.Gray Matter.Brodmann area 37',\n",
       " '746': 'Left Cerebrum.Frontal Lobe.Insula.White Matter.*',\n",
       " '747': 'Right Cerebrum.Frontal Lobe.Insula.White Matter.*',\n",
       " '555': 'Right Cerebrum.Temporal Lobe.Middle Temporal Gyrus.Gray Matter.*',\n",
       " '554': 'Right Cerebrum.Temporal Lobe.Inferior Temporal Gyrus.Gray Matter.*',\n",
       " '557': 'Left Cerebrum.Occipital Lobe.Middle Temporal Gyrus.Gray Matter.*',\n",
       " '556': 'Left Cerebrum.Occipital Lobe.Middle Temporal Gyrus.*.*',\n",
       " '551': 'Right Cerebrum.*.Inferior Temporal Gyrus.Gray Matter.*',\n",
       " '550': '*.*.Inferior Temporal Gyrus.Gray Matter.*',\n",
       " '553': 'Left Cerebrum.Temporal Lobe.Inferior Temporal Gyrus.Gray Matter.*',\n",
       " '552': 'Left Cerebrum.Occipital Lobe.Sub-Gyral.Gray Matter.*',\n",
       " '238': 'Left Cerebrum.Occipital Lobe.Lingual Gyrus.*.*',\n",
       " '239': '*.*.Lingual Gyrus.*.*',\n",
       " '234': 'Left Cerebrum.Frontal Lobe.Inferior Frontal Gyrus.Gray Matter.Brodmann area 25',\n",
       " '235': 'Left Cerebrum.Frontal Lobe.Medial Frontal Gyrus.Gray Matter.Brodmann area 11',\n",
       " '236': 'Right Cerebrum.Frontal Lobe.Medial Frontal Gyrus.Gray Matter.Brodmann area 11',\n",
       " '237': 'Right Cerebrum.Frontal Lobe.Inferior Frontal Gyrus.Gray Matter.Brodmann area 25',\n",
       " '230': 'Left Cerebrum.Frontal Lobe.Medial Frontal Gyrus.White Matter.*',\n",
       " '231': 'Right Cerebrum.Frontal Lobe.Medial Frontal Gyrus.White Matter.*',\n",
       " '232': 'Left Cerebrum.Temporal Lobe.Inferior Frontal Gyrus.*.*',\n",
       " '233': 'Left Cerebrum.Frontal Lobe.Middle Frontal Gyrus.*.*',\n",
       " '1050': 'Right Cerebrum.Parietal Lobe.Sub-Gyral.Gray Matter.Brodmann area 31',\n",
       " '1051': 'Left Cerebrum.Frontal Lobe.Paracentral Lobule.White Matter.*',\n",
       " '1052': 'Right Cerebrum.Frontal Lobe.Paracentral Lobule.White Matter.*',\n",
       " '1053': 'Left Cerebrum.Limbic Lobe.Paracentral Lobule.Gray Matter.Brodmann area 31',\n",
       " '1054': 'Left Cerebrum.Limbic Lobe.Paracentral Lobule.White Matter.*',\n",
       " '1055': 'Right Cerebrum.Limbic Lobe.Paracentral Lobule.White Matter.*',\n",
       " '1056': 'Left Cerebrum.Limbic Lobe.Paracentral Lobule.*.*',\n",
       " '1057': 'Right Cerebrum.Limbic Lobe.Paracentral Lobule.*.*',\n",
       " '1058': 'Inter-Hemispheric.*.Cingulate Gyrus.*.*',\n",
       " '1059': 'Inter-Hemispheric.*.Medial Frontal Gyrus.*.*',\n",
       " '992': 'Left Cerebrum.Parietal Lobe.Angular Gyrus.Gray Matter.Brodmann area 40',\n",
       " '1': 'Left Cerebellum.Posterior Lobe.Inferior Semi-Lunar Lobule.Gray Matter.*',\n",
       " '614': 'Right Cerebrum.Frontal Lobe.Sub-Gyral.Gray Matter.*',\n",
       " '146': 'Left Cerebrum.Frontal Lobe.Orbital Gyrus.Gray Matter.Brodmann area 47',\n",
       " '147': 'Right Cerebrum.Frontal Lobe.Orbital Gyrus.Gray Matter.Brodmann area 47',\n",
       " '144': 'Right Cerebrum.Frontal Lobe.Rectal Gyrus.*.*',\n",
       " '145': 'Right Cerebrum.Frontal Lobe.Rectal Gyrus.Gray Matter.Brodmann area 11',\n",
       " '142': 'Left Cerebrum.Frontal Lobe.Rectal Gyrus.Gray Matter.Brodmann area 11',\n",
       " '143': 'Left Cerebrum.Frontal Lobe.Rectal Gyrus.*.*',\n",
       " '140': 'Left Cerebrum.Limbic Lobe.Parahippocampal Gyrus.Gray Matter.Brodmann area 35',\n",
       " '141': 'Right Cerebrum.Limbic Lobe.Parahippocampal Gyrus.Gray Matter.Brodmann area 35',\n",
       " '612': 'Right Cerebrum.Frontal Lobe.Medial Frontal Gyrus.Gray Matter.Brodmann area 32',\n",
       " '613': 'Right Cerebrum.Frontal Lobe.Superior Frontal Gyrus.Gray Matter.*',\n",
       " '610': 'Left Cerebrum.Frontal Lobe.Medial Frontal Gyrus.Gray Matter.Brodmann area 32',\n",
       " '611': 'Left Cerebrum.Frontal Lobe.Medial Frontal Gyrus.Gray Matter.*',\n",
       " '616': 'Right Cerebrum.Frontal Lobe.Medial Frontal Gyrus.Gray Matter.*',\n",
       " '617': 'Left Cerebrum.Frontal Lobe.Middle Frontal Gyrus.Gray Matter.*',\n",
       " '148': 'Left Cerebrum.Frontal Lobe.Rectal Gyrus.White Matter.*',\n",
       " '149': 'Right Cerebrum.Frontal Lobe.Rectal Gyrus.White Matter.*',\n",
       " '1007': 'Right Cerebrum.Frontal Lobe.Cingulate Gyrus.*.*',\n",
       " '912': 'Left Cerebrum.Limbic Lobe.Cingulate Gyrus.*.*',\n",
       " '1006': 'Left Cerebrum.Frontal Lobe.Cingulate Gyrus.Gray Matter.Brodmann area 32',\n",
       " '951': 'Right Cerebrum.*.Cuneus.*.*',\n",
       " '1005': 'Left Cerebrum.Frontal Lobe.Cingulate Gyrus.*.*',\n",
       " '1082': 'Right Cerebrum.Frontal Lobe.Inferior Parietal Lobule.Gray Matter.Brodmann area 40',\n",
       " '1004': 'Left Cerebrum.Frontal Lobe.Precentral Gyrus.Gray Matter.Brodmann area 9',\n",
       " '948': 'Right Cerebrum.Limbic Lobe.Medial Frontal Gyrus.Gray Matter.Brodmann area 32',\n",
       " '949': 'Left Cerebrum.Limbic Lobe.Medial Frontal Gyrus.*.*',\n",
       " '946': 'Right Cerebrum.Limbic Lobe.Cingulate Gyrus.Gray Matter.Brodmann area 32',\n",
       " '947': 'Left Cerebrum.Limbic Lobe.Medial Frontal Gyrus.Gray Matter.Brodmann area 32',\n",
       " '944': 'Right Cerebrum.Frontal Lobe.Middle Frontal Gyrus.Gray Matter.Brodmann area 9',\n",
       " '945': 'Left Cerebrum.Limbic Lobe.Cingulate Gyrus.Gray Matter.Brodmann area 32',\n",
       " '942': 'Right Cerebrum.Limbic Lobe.Cingulate Gyrus.Gray Matter.Brodmann area 24',\n",
       " '943': 'Left Cerebrum.Frontal Lobe.Middle Frontal Gyrus.Gray Matter.Brodmann area 9',\n",
       " '940': 'Right Cerebrum.Frontal Lobe.Precentral Gyrus.Gray Matter.Brodmann area 3',\n",
       " '941': 'Left Cerebrum.Limbic Lobe.Cingulate Gyrus.Gray Matter.Brodmann area 24',\n",
       " '768': 'Right Cerebrum.Temporal Lobe.Sub-Gyral.Gray Matter.Brodmann area 41',\n",
       " '689': 'Right Cerebrum.Frontal Lobe.Precentral Gyrus.Gray Matter.Brodmann area 44',\n",
       " '688': 'Inter-Hemispheric.*.*.White Matter.*',\n",
       " '685': 'Left Cerebrum.Frontal Lobe.Precentral Gyrus.White Matter.*',\n",
       " '684': 'Right Cerebrum.Sub-lobar.Thalamus.Gray Matter.Anterior Nucleus',\n",
       " '687': 'Right Cerebrum.Frontal Lobe.Precentral Gyrus.White Matter.*',\n",
       " '686': 'Left Cerebrum.Sub-lobar.Thalamus.Gray Matter.Anterior Nucleus',\n",
       " '681': 'Right Cerebrum.Temporal Lobe.Precentral Gyrus.*.*',\n",
       " '680': 'Right Cerebrum.Frontal Lobe.Precentral Gyrus.*.*',\n",
       " '683': 'Right Cerebrum.Frontal Lobe.Precentral Gyrus.Gray Matter.Brodmann area 6',\n",
       " '682': 'Left Cerebrum.Frontal Lobe.Precentral Gyrus.Gray Matter.Brodmann area 6',\n",
       " '623': 'Right Cerebrum.Sub-lobar.Thalamus.Gray Matter.Pulvinar',\n",
       " '819': 'Right Cerebrum.Temporal Lobe.Middle Temporal Gyrus.Gray Matter.Brodmann area 19',\n",
       " '1103': 'Inter-Hemispheric.*.Postcentral Gyrus.*.*',\n",
       " '622': 'Left Cerebrum.Sub-lobar.Thalamus.Gray Matter.Pulvinar',\n",
       " '133': 'Left Cerebrum.Limbic Lobe.Parahippocampal Gyrus.White Matter.*',\n",
       " '132': 'Right Cerebrum.Limbic Lobe.Fusiform Gyrus.*.*',\n",
       " '131': 'Right Cerebrum.Temporal Lobe.Fusiform Gyrus.White Matter.*',\n",
       " '130': 'Right Cerebrum.Limbic Lobe.Parahippocampal Gyrus.Gray Matter.Brodmann area 36',\n",
       " '137': 'Left Cerebrum.Limbic Lobe.Fusiform Gyrus.White Matter.*',\n",
       " '136': 'Left Cerebrum.Temporal Lobe.Fusiform Gyrus.Gray Matter.Brodmann area 36',\n",
       " '135': 'Right Cerebrum.Limbic Lobe.Fusiform Gyrus.Gray Matter.Brodmann area 20',\n",
       " '134': 'Right Cerebrum.Limbic Lobe.Parahippocampal Gyrus.White Matter.*',\n",
       " '494': 'Left Cerebrum.Sub-lobar.Extra-Nuclear.White Matter.Caudate Tail',\n",
       " '495': 'Right Cerebrum.Sub-lobar.Caudate.Gray Matter.*',\n",
       " '139': '*.*.Fusiform Gyrus.*.*',\n",
       " '138': 'Right Cerebrum.Limbic Lobe.Fusiform Gyrus.White Matter.*',\n",
       " '490': 'Left Cerebrum.Temporal Lobe.Sub-Gyral.Gray Matter.*',\n",
       " '491': 'Right Cerebrum.Temporal Lobe.Sub-Gyral.Gray Matter.*',\n",
       " '492': 'Left Cerebrum.Temporal Lobe.*.White Matter.Caudate Tail',\n",
       " '493': 'Left Cerebrum.Sub-lobar.Caudate.Gray Matter.*',\n",
       " '24': 'Left Cerebrum.Temporal Lobe.Middle Temporal Gyrus.White Matter.*',\n",
       " '25': 'Left Cerebrum.Limbic Lobe.Uncus.White Matter.*',\n",
       " '26': 'Right Cerebrum.Limbic Lobe.*.Gray Matter.Brodmann area 20',\n",
       " '27': 'Right Cerebrum.Limbic Lobe.Uncus.White Matter.*',\n",
       " '20': 'Right Cerebrum.Temporal Lobe.Inferior Temporal Gyrus.White Matter.*',\n",
       " '21': 'Left Cerebrum.Limbic Lobe.*.*.*',\n",
       " '22': 'Right Cerebrum.Limbic Lobe.*.*.*',\n",
       " '23': 'Left Cerebrum.Temporal Lobe.Middle Temporal Gyrus.Gray Matter.Brodmann area 20',\n",
       " '927': 'Left Cerebrum.Parietal Lobe.Supramarginal Gyrus.Gray Matter.Brodmann area 40',\n",
       " '28': 'Right Cerebrum.Temporal Lobe.Middle Temporal Gyrus.White Matter.*',\n",
       " '29': 'Right Cerebrum.Temporal Lobe.Middle Temporal Gyrus.Gray Matter.Brodmann area 20',\n",
       " '407': 'Right Cerebrum.Limbic Lobe.Anterior Cingulate.Gray Matter.Brodmann area 10',\n",
       " '406': 'Left Cerebrum.Frontal Lobe.Medial Frontal Gyrus.Gray Matter.Brodmann area 10',\n",
       " '405': 'Left Cerebrum.Limbic Lobe.Anterior Cingulate.Gray Matter.Brodmann area 10',\n",
       " '404': 'Right Cerebrum.Frontal Lobe.Extra-Nuclear.White Matter.*',\n",
       " '403': 'Left Cerebrum.Frontal Lobe.Extra-Nuclear.White Matter.*',\n",
       " '402': 'Right Cerebrum.Frontal Lobe.Sub-Gyral.Gray Matter.Brodmann area 47',\n",
       " '401': 'Right Cerebrum.Sub-lobar.Extra-Nuclear.Gray Matter.Brodmann area 47',\n",
       " '400': 'Left Cerebrum.Frontal Lobe.Extra-Nuclear.Gray Matter.Brodmann area 13',\n",
       " '933': '*.*.Inferior Parietal Lobule.*.*',\n",
       " '932': 'Right Cerebrum.Limbic Lobe.Sub-Gyral.Gray Matter.Brodmann area 31',\n",
       " '931': '*.*.Supramarginal Gyrus.*.*',\n",
       " '930': 'Right Cerebrum.Parietal Lobe.Supramarginal Gyrus.White Matter.*',\n",
       " '937': 'Right Cerebrum.Frontal Lobe.Inferior Parietal Lobule.White Matter.*',\n",
       " '629': 'Left Cerebrum.Temporal Lobe.Middle Occipital Gyrus.White Matter.*',\n",
       " '409': 'Left Cerebrum.Frontal Lobe.Middle Frontal Gyrus.Gray Matter.Brodmann area 47',\n",
       " '408': 'Right Cerebrum.Frontal Lobe.Medial Frontal Gyrus.Gray Matter.Brodmann area 10',\n",
       " '1069': 'Right Cerebrum.Frontal Lobe.Precuneus.*.*',\n",
       " '628': 'Left Cerebrum.Temporal Lobe.Middle Occipital Gyrus.Gray Matter.Brodmann area 37',\n",
       " '1028': 'Right Cerebrum.Frontal Lobe.Sub-Gyral.Gray Matter.Brodmann area 8',\n",
       " '758': 'Left Cerebrum.Limbic Lobe.Posterior Cingulate.Gray Matter.Brodmann area 18',\n",
       " '1018': 'Left Cerebrum.Parietal Lobe.Sub-Gyral.Gray Matter.Brodmann area 2',\n",
       " '379': 'Left Cerebrum.Sub-lobar.Lentiform Nucleus.Gray Matter.Putamen',\n",
       " '378': 'Left Cerebrum.Sub-lobar.Extra-Nuclear.*.*',\n",
       " '829': 'Left Cerebrum.Occipital Lobe.Precuneus.Gray Matter.Brodmann area 23',\n",
       " '828': 'Right Cerebrum.Occipital Lobe.Precuneus.*.*',\n",
       " '1060': '*.*.Superior Parietal Lobule.*.*',\n",
       " '371': 'Left Cerebrum.Limbic Lobe.Anterior Cingulate.White Matter.*',\n",
       " '370': 'Left Cerebrum.Limbic Lobe.Extra-Nuclear.White Matter.*',\n",
       " '373': 'Right Cerebrum.Limbic Lobe.Anterior Cingulate.*.*',\n",
       " '372': 'Left Cerebrum.Limbic Lobe.Anterior Cingulate.*.*',\n",
       " '375': 'Right Cerebrum.Limbic Lobe.Extra-Nuclear.White Matter.*',\n",
       " '374': 'Right Cerebrum.Limbic Lobe.Anterior Cingulate.White Matter.*',\n",
       " '377': 'Left Cerebrum.Temporal Lobe.Sub-Gyral.*.*',\n",
       " '376': 'Right Cerebrum.Sub-lobar.Extra-Nuclear.Gray Matter.Brodmann area 13',\n",
       " '1019': 'Right Cerebrum.Parietal Lobe.Precentral Gyrus.Gray Matter.Brodmann area 3',\n",
       " '708': 'Left Cerebrum.Temporal Lobe.Superior Temporal Gyrus.Gray Matter.Brodmann area 39',\n",
       " '709': 'Right Cerebrum.Temporal Lobe.Superior Temporal Gyrus.Gray Matter.Brodmann area 39',\n",
       " '704': 'Right Cerebrum.Temporal Lobe.Middle Temporal Gyrus.Gray Matter.Brodmann area 39',\n",
       " '705': 'Right Cerebrum.Occipital Lobe.Middle Temporal Gyrus.Gray Matter.Brodmann area 39',\n",
       " '706': 'Left Cerebrum.Occipital Lobe.Cuneus.Gray Matter.Brodmann area 23',\n",
       " '707': 'Right Cerebrum.Occipital Lobe.Cuneus.Gray Matter.Brodmann area 23',\n",
       " '700': 'Right Cerebrum.Occipital Lobe.Middle Temporal Gyrus.Gray Matter.Brodmann area 19',\n",
       " '618': 'Right Cerebrum.Frontal Lobe.Middle Frontal Gyrus.Gray Matter.*',\n",
       " '702': 'Left Cerebrum.Occipital Lobe.Middle Temporal Gyrus.Gray Matter.Brodmann area 39',\n",
       " '703': 'Left Cerebrum.Temporal Lobe.Middle Temporal Gyrus.Gray Matter.Brodmann area 39',\n",
       " '393': 'Right Cerebrum.Frontal Lobe.Extra-Nuclear.Gray Matter.Brodmann area 47',\n",
       " '392': 'Left Cerebrum.Frontal Lobe.Extra-Nuclear.Gray Matter.Brodmann area 47',\n",
       " '88': 'Left Cerebellum.Anterior Lobe.Culmen.Gray Matter.*',\n",
       " '89': 'Right Cerebellum.Anterior Lobe.Culmen.Gray Matter.*',\n",
       " '397': 'Right Cerebrum.Frontal-Temporal Space.*.*.*',\n",
       " '396': 'Right Cerebrum.Limbic Lobe.Anterior Cingulate.Gray Matter.Brodmann area 32',\n",
       " '395': 'Left Cerebrum.Limbic Lobe.Anterior Cingulate.Gray Matter.Brodmann area 32',\n",
       " '394': 'Left Cerebrum.Frontal-Temporal Space.*.*.*',\n",
       " '82': 'Left Cerebellum.Posterior Lobe.Pyramis of Vermis.Gray Matter.*',\n",
       " '83': 'Right Cerebellum.Posterior Lobe.Pyramis of Vermis.Gray Matter.*',\n",
       " '80': 'Left Cerebellum.Posterior Lobe.Tuber.Gray Matter.*',\n",
       " '81': 'Right Cerebellum.Posterior Lobe.Tuber.Gray Matter.*',\n",
       " '86': 'Right Cerebellum.Anterior Lobe.Nodule.Gray Matter.*',\n",
       " '87': 'Right Cerebellum.Anterior Lobe.*.Gray Matter.*',\n",
       " '84': 'Left Cerebellum.Anterior Lobe.Nodule.Gray Matter.*',\n",
       " '85': 'Left Cerebellum.Anterior Lobe.*.Gray Matter.*',\n",
       " '797': 'Right Cerebrum.Parietal Lobe.Sub-Gyral.Gray Matter.Brodmann area 43',\n",
       " '796': 'Left Cerebrum.Parietal Lobe.Sub-Gyral.White Matter.*',\n",
       " '795': 'Right Cerebrum.Parietal Lobe.Postcentral Gyrus.Gray Matter.*',\n",
       " '794': 'Left Cerebrum.Parietal Lobe.Postcentral Gyrus.Gray Matter.*',\n",
       " '793': 'Right Cerebrum.Parietal Lobe.Postcentral Gyrus.Gray Matter.Brodmann area 43',\n",
       " '792': 'Left Cerebrum.Parietal Lobe.Postcentral Gyrus.Gray Matter.Brodmann area 43',\n",
       " '791': 'Right Cerebrum.Sub-lobar.Thalamus.Gray Matter.Midline Nucleus',\n",
       " '790': 'Left Cerebrum.Sub-lobar.Thalamus.Gray Matter.Midline Nucleus',\n",
       " '799': 'Left Cerebrum.Parietal Lobe.*.*.*',\n",
       " '798': 'Right Cerebrum.Parietal Lobe.Sub-Gyral.White Matter.*',\n",
       " '7': '*.*.Inferior Temporal Gyrus.*.*',\n",
       " '601': 'Right Cerebrum.Sub-lobar.Caudate.Cerebro-Spinal Fluid.Caudate Head',\n",
       " '607': 'Left Cerebrum.Frontal Lobe.Inferior Frontal Gyrus.Gray Matter.Brodmann area 46',\n",
       " '586': 'Right Cerebrum.Temporal Lobe.Insula.Gray Matter.*',\n",
       " '587': 'Left Cerebrum.Temporal Lobe.Insula.Gray Matter.Brodmann area 22',\n",
       " '584': 'Right Cerebrum.Sub-lobar.Thalamus.Gray Matter.Ventral Posterior Lateral Nucleus',\n",
       " '585': 'Right Cerebrum.Sub-lobar.Insula.Gray Matter.*',\n",
       " '582': 'Right Cerebrum.Sub-lobar.Thalamus.Gray Matter.Mammillary Body',\n",
       " '583': 'Right Cerebrum.Sub-lobar.Thalamus.Gray Matter.Ventral Posterior Medial Nucleus',\n",
       " '580': 'Left Cerebrum.Sub-lobar.Thalamus.Gray Matter.Ventral Posterior Medial Nucleus',\n",
       " '581': 'Left Cerebrum.Sub-lobar.Thalamus.Gray Matter.Mammillary Body',\n",
       " '588': 'Right Cerebrum.Temporal Lobe.Insula.Gray Matter.Brodmann area 22',\n",
       " '589': 'Left Cerebrum.Temporal Lobe.Insula.Gray Matter.Brodmann area 13',\n",
       " '245': 'Right Cerebrum.Occipital Lobe.Lingual Gyrus.Gray Matter.Brodmann area 17',\n",
       " '244': 'Right Cerebrum.Occipital Lobe.Lingual Gyrus.*.*',\n",
       " '247': 'Left Cerebrum.Occipital Lobe.Lingual Gyrus.Gray Matter.Brodmann area 18',\n",
       " '246': 'Left Cerebrum.Occipital Lobe.*.*.*',\n",
       " '241': '*.Occipital Lobe.Lingual Gyrus.*.*',\n",
       " '240': '*.Occipital Lobe.*.*.*',\n",
       " '243': 'Inter-Hemispheric.Occipital Lobe.Lingual Gyrus.*.*',\n",
       " '242': 'Left Cerebrum.Occipital Lobe.Lingual Gyrus.Gray Matter.Brodmann area 17',\n",
       " '615': 'Left Cerebrum.Frontal Lobe.Superior Frontal Gyrus.Gray Matter.*',\n",
       " '249': 'Right Cerebrum.Occipital Lobe.Lingual Gyrus.Gray Matter.Brodmann area 18',\n",
       " '248': 'Right Cerebrum.Occipital Lobe.*.*.*',\n",
       " '924': 'Right Cerebrum.Limbic Lobe.Precuneus.White Matter.*',\n",
       " '970': 'Right Cerebrum.Parietal Lobe.Angular Gyrus.Gray Matter.Brodmann area 39',\n",
       " '925': 'Left Cerebrum.Occipital Lobe.Superior Temporal Gyrus.*.*',\n",
       " '519': 'Left Cerebrum.Occipital Lobe.*.Gray Matter.*',\n",
       " '518': '*.*.*.Gray Matter.*',\n",
       " '926': 'Right Cerebrum.Occipital Lobe.Superior Temporal Gyrus.*.*',\n",
       " '1009': 'Left Cerebrum.Frontal Lobe.Medial Frontal Gyrus.Gray Matter.Brodmann area 6',\n",
       " '1008': 'Right Cerebrum.Frontal Lobe.Cingulate Gyrus.Gray Matter.Brodmann area 32',\n",
       " '511': 'Left Cerebrum.Sub-lobar.Extra-Nuclear.Gray Matter.Brodmann area 47',\n",
       " '510': 'Right Cerebrum.Sub-lobar.Extra-Nuclear.White Matter.Corpus Callosum',\n",
       " '513': 'Right Cerebrum.Sub-lobar.Claustrum.White Matter.*',\n",
       " '512': 'Left Cerebrum.Sub-lobar.Extra-Nuclear.Cerebro-Spinal Fluid.*',\n",
       " '515': 'Right Cerebrum.Frontal Lobe.Sub-Gyral.White Matter.Corpus Callosum',\n",
       " '514': 'Left Cerebrum.Frontal Lobe.Sub-Gyral.White Matter.Corpus Callosum',\n",
       " '517': 'Right Cerebrum.Frontal Lobe.Sub-Gyral.Gray Matter.Brodmann area 10',\n",
       " '516': 'Left Cerebrum.Frontal Lobe.Sub-Gyral.Gray Matter.Brodmann area 10',\n",
       " '458': 'Left Cerebrum.Temporal Lobe.Middle Temporal Gyrus.Gray Matter.Brodmann area 22',\n",
       " '459': 'Right Brainstem.Midbrain.Extra-Nuclear.White Matter.*',\n",
       " '621': 'Inter-Hemispheric.Sub-lobar.Extra-Nuclear.White Matter.*',\n",
       " '620': 'Right Cerebrum.Frontal Lobe.*.Gray Matter.*',\n",
       " '627': 'Right Cerebrum.Temporal Lobe.Middle Occipital Gyrus.Gray Matter.Brodmann area 37',\n",
       " '626': 'Right Cerebrum.Temporal Lobe.Middle Occipital Gyrus.*.*',\n",
       " '625': 'Left Cerebrum.Temporal Lobe.Middle Occipital Gyrus.*.*',\n",
       " '624': 'Inter-Hemispheric.*.*.Cerebro-Spinal Fluid.Optic Tract',\n",
       " '450': 'Right Cerebrum.Sub-lobar.Claustrum.Gray Matter.*',\n",
       " '451': 'Right Cerebrum.Sub-lobar.Insula.*.*',\n",
       " '452': 'Left Cerebrum.Sub-lobar.Lentiform Nucleus.Gray Matter.Lateral Globus Pallidus',\n",
       " '453': 'Left Brainstem.Midbrain.*.Gray Matter.Subthalamic Nucleus',\n",
       " '454': 'Right Brainstem.Midbrain.*.Gray Matter.Subthalamic Nucleus',\n",
       " '455': 'Right Cerebrum.Sub-lobar.Lentiform Nucleus.Gray Matter.Lateral Globus Pallidus',\n",
       " '456': 'Left Cerebrum.Sub-lobar.Lentiform Nucleus.Gray Matter.Medial Globus Pallidus',\n",
       " '457': 'Right Cerebrum.Sub-lobar.Lentiform Nucleus.Gray Matter.Medial Globus Pallidus',\n",
       " '1084': 'Left Cerebrum.Frontal Lobe.Precuneus.White Matter.*',\n",
       " '979': 'Left Cerebrum.Frontal Lobe.Postcentral Gyrus.*.*',\n",
       " '179': 'Left Cerebrum.Limbic Lobe.Uncus.Gray Matter.Brodmann area 34',\n",
       " '178': 'Right Cerebrum.Limbic Lobe.Parahippocampal Gyrus.Gray Matter.Brodmann area 34',\n",
       " '177': 'Left Cerebrum.Limbic Lobe.Parahippocampal Gyrus.Gray Matter.Brodmann area 34',\n",
       " '176': 'Right Cerebrum.Limbic Lobe.Parahippocampal Gyrus.Gray Matter.Hippocampus',\n",
       " '175': 'Left Cerebrum.Limbic Lobe.Parahippocampal Gyrus.Gray Matter.Hippocampus',\n",
       " '174': 'Right Cerebrum.Sub-lobar.Lateral Ventricle.Cerebro-Spinal Fluid.*',\n",
       " '173': 'Left Cerebrum.Sub-lobar.Lateral Ventricle.Cerebro-Spinal Fluid.*',\n",
       " '172': 'Right Cerebrum.Temporal Lobe.Sub-Gyral.Gray Matter.Brodmann area 20',\n",
       " '171': 'Left Cerebrum.Temporal Lobe.Sub-Gyral.Gray Matter.Brodmann area 20',\n",
       " '170': 'Right Cerebrum.Limbic Lobe.Parahippocampal Gyrus.Gray Matter.Brodmann area 28',\n",
       " '977': 'Right Cerebrum.Parietal Lobe.*.*.*',\n",
       " '656': 'Right Cerebrum.Sub-lobar.Insula.Gray Matter.Brodmann area 45',\n",
       " '975': 'Right Cerebrum.Parietal Lobe.Supramarginal Gyrus.Gray Matter.Brodmann area 39',\n",
       " '974': 'Left Cerebrum.Parietal Lobe.Supramarginal Gyrus.Gray Matter.Brodmann area 39',\n",
       " '973': '*.Parietal Lobe.*.*.*',\n",
       " '972': 'Right Cerebrum.Parietal Lobe.Precuneus.Gray Matter.Brodmann area 7',\n",
       " '971': 'Left Cerebrum.Occipital Lobe.Precuneus.Gray Matter.Brodmann area 7',\n",
       " '657': 'Right Cerebrum.Sub-lobar.*.White Matter.Corpus Callosum',\n",
       " '1080': 'Left Cerebrum.Parietal Lobe.Sub-Gyral.Gray Matter.Brodmann area 7',\n",
       " '654': 'Left Cerebrum.Sub-lobar.Inferior Frontal Gyrus.*.*',\n",
       " '253': 'Right Cerebrum.Occipital Lobe.Lingual Gyrus.White Matter.*',\n",
       " '978': 'Left Cerebrum.Parietal Lobe.Inferior Parietal Lobule.Gray Matter.Brodmann area 2',\n",
       " '182': 'Right Cerebrum.Limbic Lobe.Uncus.Gray Matter.Amygdala',\n",
       " '183': 'Right Cerebrum.Limbic Lobe.Parahippocampal Gyrus.Gray Matter.Amygdala',\n",
       " '180': 'Right Cerebrum.Limbic Lobe.Uncus.Gray Matter.Brodmann area 34',\n",
       " '181': 'Left Cerebrum.Limbic Lobe.Uncus.Gray Matter.Amygdala',\n",
       " '186': 'Left Cerebrum.Frontal Lobe.Inferior Frontal Gyrus.*.*',\n",
       " '187': 'Right Cerebrum.Frontal Lobe.Inferior Frontal Gyrus.*.*',\n",
       " '184': '*.*.Inferior Frontal Gyrus.*.*',\n",
       " '185': 'Left Cerebrum.Frontal Lobe.Inferior Frontal Gyrus.Gray Matter.Brodmann area 47',\n",
       " '886': 'Right Cerebrum.Temporal Lobe.Inferior Parietal Lobule.*.*',\n",
       " '652': 'Right Cerebrum.*.*.White Matter.Corpus Callosum',\n",
       " '188': 'Right Cerebrum.Frontal Lobe.Inferior Frontal Gyrus.Gray Matter.Brodmann area 47',\n",
       " '189': 'Left Cerebrum.Frontal Lobe.Inferior Frontal Gyrus.White Matter.*',\n",
       " '658': 'Right Cerebrum.Frontal Lobe.Middle Frontal Gyrus.Gray Matter.Brodmann area 46',\n",
       " '653': 'Right Cerebrum.Sub-lobar.Inferior Frontal Gyrus.Gray Matter.Brodmann area 45',\n",
       " '650': 'Right Cerebrum.Sub-lobar.Inferior Frontal Gyrus.*.*',\n",
       " '651': 'Inter-Hemispheric.Sub-lobar.Extra-Nuclear.White Matter.Corpus Callosum',\n",
       " '1089': 'Left Cerebrum.Frontal Lobe.Paracentral Lobule.Gray Matter.Brodmann area 4',\n",
       " '764': 'Left Cerebrum.Occipital Lobe.Middle Temporal Gyrus.Gray Matter.Brodmann area 22',\n",
       " '1088': 'Left Cerebrum.Frontal Lobe.Paracentral Lobule.Gray Matter.Brodmann area 3',\n",
       " '11': 'Right Cerebrum.Temporal Lobe.*.*.*',\n",
       " '10': 'Left Cerebrum.Temporal Lobe.*.*.*',\n",
       " '13': 'Right Cerebrum.Temporal Lobe.Inferior Temporal Gyrus.Gray Matter.Brodmann area 20',\n",
       " '12': 'Right Cerebrum.Temporal Lobe.Inferior Temporal Gyrus.*.*',\n",
       " '15': 'Left Cerebrum.Limbic Lobe.Inferior Temporal Gyrus.Gray Matter.Brodmann area 20',\n",
       " '14': 'Left Cerebrum.Temporal Lobe.Inferior Temporal Gyrus.White Matter.*',\n",
       " '17': 'Left Cerebrum.Limbic Lobe.Uncus.*.*',\n",
       " '16': 'Left Cerebrum.Limbic Lobe.Uncus.Gray Matter.Brodmann area 20',\n",
       " '19': 'Right Cerebrum.Limbic Lobe.Inferior Temporal Gyrus.Gray Matter.Brodmann area 20',\n",
       " '18': 'Right Cerebrum.Limbic Lobe.Uncus.Gray Matter.Brodmann area 20',\n",
       " '863': 'Right Cerebrum.Temporal Lobe.Precuneus.Gray Matter.Brodmann area 31',\n",
       " '862': 'Right Cerebrum.Parietal Lobe.Precuneus.*.*',\n",
       " '865': '*.Frontal Lobe.Middle Temporal Gyrus.Gray Matter.Brodmann area 39',\n",
       " '864': 'Right Cerebrum.Parietal Lobe.Precuneus.White Matter.*',\n",
       " '867': 'Left Cerebrum.Temporal Lobe.Precuneus.White Matter.*',\n",
       " '866': 'Right Cerebrum.Temporal Lobe.Precuneus.White Matter.*',\n",
       " '884': 'Left Cerebrum.Temporal Lobe.Inferior Parietal Lobule.*.*',\n",
       " '938': 'Left Cerebrum.Parietal Lobe.Precentral Gyrus.Gray Matter.Brodmann area 3',\n",
       " '659': 'Inter-Hemispheric.Frontal Lobe.Medial Frontal Gyrus.*.*',\n",
       " '883': 'Right Cerebrum.Parietal Lobe.Supramarginal Gyrus.*.*',\n",
       " '753': 'Left Cerebrum.*.Middle Frontal Gyrus.*.*',\n",
       " '881': 'Right Cerebrum.Parietal Lobe.Inferior Parietal Lobule.Gray Matter.Brodmann area 40',\n",
       " '880': 'Right Cerebrum.Parietal Lobe.Inferior Parietal Lobule.White Matter.*',\n",
       " '887': 'Left Cerebrum.Parietal Lobe.Inferior Parietal Lobule.*.*',\n",
       " '831': 'Left Cerebrum.Sub-lobar.Posterior Cingulate.White Matter.*',\n",
       " '885': 'Right Cerebrum.Temporal Lobe.Inferior Parietal Lobule.Gray Matter.Brodmann area 40',\n",
       " '752': 'Inter-Hemispheric.Limbic Lobe.Anterior Cingulate.*.*',\n",
       " '928': 'Right Cerebrum.Parietal Lobe.Supramarginal Gyrus.Gray Matter.Brodmann area 40',\n",
       " '62': 'Right Cerebellum.Posterior Lobe.Pyramis.Gray Matter.*',\n",
       " '888': 'Inter-Hemispheric.Limbic Lobe.*.*.*',\n",
       " '1012': 'Right Cerebrum.Frontal Lobe.Cingulate Gyrus.Gray Matter.Brodmann area 6',\n",
       " '1032': 'Right Cerebrum.Frontal Lobe.Sub-Gyral.Gray Matter.Brodmann area 32',\n",
       " '950': 'Right Cerebrum.Limbic Lobe.Medial Frontal Gyrus.*.*',\n",
       " '756': 'Left Cerebrum.Limbic Lobe.Posterior Cingulate.Gray Matter.Brodmann area 31',\n",
       " '929': 'Left Cerebrum.Parietal Lobe.Supramarginal Gyrus.White Matter.*',\n",
       " '809': 'Left Cerebrum.Frontal Lobe.Inferior Frontal Gyrus.Gray Matter.Brodmann area 6',\n",
       " '322': 'Right Cerebellum.Anterior Lobe.Culmen of Vermis.Gray Matter.*',\n",
       " '323': 'Left Cerebrum.Occipital Lobe.Middle Occipital Gyrus.Gray Matter.Brodmann area 37',\n",
       " '320': 'Right Cerebrum.Occipital Lobe.Sub-Gyral.White Matter.*',\n",
       " '321': 'Left Cerebellum.Anterior Lobe.Culmen of Vermis.Gray Matter.*',\n",
       " '326': 'Left Cerebrum.Occipital Lobe.Inferior Temporal Gyrus.White Matter.*',\n",
       " '327': 'Right Cerebrum.Occipital Lobe.Inferior Temporal Gyrus.White Matter.*',\n",
       " '324': 'Right Cerebrum.Occipital Lobe.Middle Occipital Gyrus.Gray Matter.Brodmann area 37',\n",
       " '325': 'Right Cerebrum.Occipital Lobe.Inferior Temporal Gyrus.*.*',\n",
       " '328': 'Right Cerebrum.Temporal Lobe.Middle Temporal Gyrus.Gray Matter.Brodmann area 37',\n",
       " '329': 'Left Cerebrum.Occipital Lobe.Fusiform Gyrus.Gray Matter.Brodmann area 37',\n",
       " '759': 'Left Cerebrum.Limbic Lobe.Posterior Cingulate.Gray Matter.*',\n",
       " '201': 'Right Cerebrum.*.Superior Frontal Gyrus.*.*',\n",
       " '200': 'Right Cerebrum.*.Orbital Gyrus.*.*',\n",
       " '203': 'Left Cerebrum.Occipital Lobe.Fusiform Gyrus.Gray Matter.Brodmann area 18',\n",
       " '202': 'Left Cerebrum.Occipital Lobe.Fusiform Gyrus.*.*',\n",
       " '205': 'Right Cerebrum.Occipital Lobe.Fusiform Gyrus.Gray Matter.Brodmann area 18',\n",
       " '204': 'Right Cerebrum.Occipital Lobe.Fusiform Gyrus.*.*',\n",
       " '207': 'Right Cerebrum.Occipital Lobe.Fusiform Gyrus.White Matter.*',\n",
       " '206': 'Left Cerebrum.Occipital Lobe.Fusiform Gyrus.White Matter.*',\n",
       " '209': 'Right Cerebrum.Temporal Lobe.Fusiform Gyrus.Gray Matter.Brodmann area 37',\n",
       " '208': 'Left Cerebrum.Temporal Lobe.Fusiform Gyrus.Gray Matter.Brodmann area 37',\n",
       " '779': 'Right Cerebrum.Temporal Lobe.Postcentral Gyrus.*.*',\n",
       " '778': 'Right Cerebrum.Parietal Lobe.Postcentral Gyrus.Gray Matter.Brodmann area 40',\n",
       " '889': 'Right Cerebrum.Parietal Lobe.Inferior Parietal Lobule.*.*',\n",
       " '77': 'Right Cerebrum.Temporal Lobe.Inferior Temporal Gyrus.Gray Matter.Brodmann area 21',\n",
       " '76': 'Right Cerebrum.Limbic Lobe.Uncus.Gray Matter.Brodmann area 36',\n",
       " '75': 'Left Cerebrum.Limbic Lobe.Uncus.Gray Matter.Brodmann area 36',\n",
       " '74': 'Left Cerebrum.*.*.*.*',\n",
       " '73': '*.Limbic Lobe.Uncus.*.*',\n",
       " '72': 'Right Brainstem.Pons.*.*.*',\n",
       " '71': 'Left Brainstem.Pons.*.*.*',\n",
       " '70': 'Left Cerebellum.Sub-lobar.Fourth Ventricle.Cerebro-Spinal Fluid.*',\n",
       " '655': 'Left Cerebrum.Sub-lobar.Insula.Gray Matter.Brodmann area 45',\n",
       " '79': 'Right Cerebrum.Temporal Lobe.Middle Temporal Gyrus.Gray Matter.Brodmann area 21',\n",
       " '78': 'Left Cerebrum.Temporal Lobe.Middle Temporal Gyrus.Gray Matter.Brodmann area 21',\n",
       " '2': 'Right Cerebellum.Posterior Lobe.Inferior Semi-Lunar Lobule.Gray Matter.*',\n",
       " '1042': 'Right Cerebrum.Parietal Lobe.Superior Parietal Lobule.White Matter.*',\n",
       " '1041': 'Left Cerebrum.Parietal Lobe.Superior Parietal Lobule.White Matter.*',\n",
       " '1040': 'Right Cerebrum.Parietal Lobe.Superior Parietal Lobule.Gray Matter.Brodmann area 7',\n",
       " '1047': 'Inter-Hemispheric.*.Paracentral Lobule.*.*',\n",
       " '1043': 'Left Cerebrum.Parietal Lobe.Inferior Parietal Lobule.Gray Matter.Brodmann area 7',\n",
       " '1045': 'Left Cerebrum.Frontal Lobe.Paracentral Lobule.Gray Matter.Brodmann area 31',\n",
       " '1044': 'Right Cerebrum.Parietal Lobe.Inferior Parietal Lobule.Gray Matter.Brodmann area 7',\n",
       " '1049': 'Right Cerebrum.Frontal Lobe.Paracentral Lobule.Gray Matter.Brodmann area 31',\n",
       " '1048': 'Right Cerebrum.Frontal Lobe.Paracentral Lobule.*.*',\n",
       " '805': 'Right Cerebrum.Frontal Lobe.Precentral Gyrus.Gray Matter.Brodmann area 4',\n",
       " '804': 'Left Cerebrum.Parietal Lobe.Precentral Gyrus.Gray Matter.Brodmann area 4',\n",
       " '669': 'Right Cerebrum.Occipital Lobe.Posterior Cingulate.Gray Matter.Brodmann area 30',\n",
       " '668': 'Right Cerebrum.Limbic Lobe.Posterior Cingulate.*.*',\n",
       " '667': 'Left Cerebrum.Limbic Lobe.Posterior Cingulate.*.*',\n",
       " '666': 'Left Cerebrum.Occipital Lobe.Posterior Cingulate.White Matter.*',\n",
       " '665': 'Right Cerebrum.Limbic Lobe.Posterior Cingulate.Gray Matter.Brodmann area 30',\n",
       " '664': 'Right Cerebrum.Limbic Lobe.Posterior Cingulate.White Matter.*',\n",
       " '663': 'Left Cerebrum.Limbic Lobe.Posterior Cingulate.Gray Matter.Brodmann area 30',\n",
       " '662': 'Left Cerebrum.Limbic Lobe.Posterior Cingulate.White Matter.*',\n",
       " '661': 'Right Cerebrum.Occipital Lobe.Cuneus.Gray Matter.Brodmann area 30',\n",
       " '660': 'Left Cerebrum.Occipital Lobe.Cuneus.Gray Matter.Brodmann area 30',\n",
       " '769': 'Right Cerebrum.Temporal Lobe.Insula.White Matter.*',\n",
       " '692': 'Left Cerebrum.Sub-lobar.Caudate.Gray Matter.Caudate Body',\n",
       " '693': 'Right Cerebrum.Sub-lobar.Caudate.Gray Matter.Caudate Body',\n",
       " '690': 'Left Cerebrum.Frontal Lobe.Precentral Gyrus.Gray Matter.Brodmann area 44',\n",
       " '691': 'Right Cerebrum.Sub-lobar.Insula.Gray Matter.Brodmann area 44',\n",
       " '696': 'Right Cerebrum.Frontal Lobe.Sub-Gyral.Gray Matter.Brodmann area 46',\n",
       " '697': 'Left Cerebrum.Frontal Lobe.Middle Frontal Gyrus.Gray Matter.Brodmann area 46',\n",
       " '694': 'Left Cerebrum.Limbic Lobe.Anterior Cingulate.White Matter.Corpus Callosum',\n",
       " '695': 'Right Cerebrum.Limbic Lobe.Anterior Cingulate.White Matter.Corpus Callosum',\n",
       " '698': 'Left Cerebrum.*.Middle Occipital Gyrus.*.*',\n",
       " '699': 'Left Cerebrum.Occipital Lobe.Middle Temporal Gyrus.Gray Matter.Brodmann area 19',\n",
       " '542': 'Right Cerebrum.*.Middle Occipital Gyrus.Gray Matter.*',\n",
       " '543': 'Inter-Hemispheric.Occipital Lobe.Cuneus.*.*',\n",
       " '540': 'Inter-Hemispheric.Occipital Lobe.Cuneus.Gray Matter.Brodmann area 17',\n",
       " '541': 'Left Cerebrum.Occipital Lobe.Lingual Gyrus.Gray Matter.*',\n",
       " '546': 'Right Cerebrum.*.Middle Occipital Gyrus.*.*',\n",
       " '547': 'Inter-Hemispheric.Occipital Lobe.*.*.*',\n",
       " '544': 'Inter-Hemispheric.Occipital Lobe.Cuneus.Gray Matter.*',\n",
       " '545': 'Inter-Hemispheric.Occipital Lobe.Lingual Gyrus.Gray Matter.*',\n",
       " '8': 'Left Cerebrum.Temporal Lobe.Inferior Temporal Gyrus.Gray Matter.Brodmann area 20',\n",
       " '548': 'Left Cerebrum.Occipital Lobe.Inferior Temporal Gyrus.Gray Matter.*',\n",
       " '549': 'Right Cerebrum.Occipital Lobe.Inferior Temporal Gyrus.Gray Matter.*',\n",
       " '68': 'Right Cerebellum.Posterior Lobe.Uvula of Vermis.Gray Matter.*',\n",
       " '598': 'Left Cerebrum.Sub-lobar.Caudate.Cerebro-Spinal Fluid.Caudate Head',\n",
       " '995': 'Left Cerebrum.Parietal Lobe.Cingulate Gyrus.Gray Matter.Brodmann area 31',\n",
       " '869': 'Left Cerebrum.Temporal Lobe.Supramarginal Gyrus.Gray Matter.Brodmann area 40',\n",
       " '997': 'Right Cerebrum.Parietal Lobe.Cingulate Gyrus.*.*',\n",
       " '996': 'Left Cerebrum.Parietal Lobe.Cingulate Gyrus.*.*',\n",
       " '991': 'Right Cerebrum.Parietal Lobe.Sub-Gyral.Gray Matter.Brodmann area 39',\n",
       " '990': 'Left Cerebrum.Parietal Lobe.Precuneus.Gray Matter.Brodmann area 39',\n",
       " '993': 'Right Cerebrum.Parietal Lobe.Angular Gyrus.Gray Matter.Brodmann area 40',\n",
       " '868': 'Left Cerebrum.Temporal Lobe.Supramarginal Gyrus.*.*',\n",
       " '999': 'Left Cerebrum.Parietal Lobe.Sub-Gyral.Gray Matter.Brodmann area 40',\n",
       " '998': 'Right Cerebrum.Parietal Lobe.Cingulate Gyrus.Gray Matter.Brodmann area 31',\n",
       " '120': 'Left Cerebellum.Posterior Lobe.Culmen.Gray Matter.*',\n",
       " '121': 'Left Cerebrum.Temporal Lobe.Fusiform Gyrus.*.*',\n",
       " '122': 'Right Cerebrum.Temporal Lobe.Fusiform Gyrus.*.*',\n",
       " '123': 'Left Cerebrum.Temporal Lobe.Fusiform Gyrus.Gray Matter.Brodmann area 20',\n",
       " '124': 'Right Cerebrum.Temporal Lobe.Fusiform Gyrus.Gray Matter.Brodmann area 20',\n",
       " '125': 'Left Cerebrum.Limbic Lobe.Parahippocampal Gyrus.*.*',\n",
       " '126': '*.Limbic Lobe.Parahippocampal Gyrus.*.*',\n",
       " '127': 'Right Cerebrum.Limbic Lobe.Parahippocampal Gyrus.*.*',\n",
       " '128': 'Left Cerebrum.Temporal Lobe.Fusiform Gyrus.White Matter.*',\n",
       " '129': 'Left Cerebrum.Limbic Lobe.Parahippocampal Gyrus.Gray Matter.Brodmann area 36',\n",
       " '765': 'Left Cerebrum.*.Superior Temporal Gyrus.Gray Matter.Brodmann area 22',\n",
       " '1016': 'Left Cerebrum.Frontal Lobe.Precuneus.Gray Matter.Brodmann area 31',\n",
       " '1010': 'Left Cerebrum.Frontal Lobe.Cingulate Gyrus.Gray Matter.Brodmann area 6',\n",
       " '1011': 'Right Cerebrum.Frontal Lobe.Medial Frontal Gyrus.Gray Matter.Brodmann area 6',\n",
       " '414': 'Left Cerebrum.Occipital Lobe.Inferior Occipital Gyrus.Gray Matter.Brodmann area 19',\n",
       " '415': 'Right Cerebrum.Occipital Lobe.Inferior Occipital Gyrus.Gray Matter.Brodmann area 19',\n",
       " '416': '*.*.Sub-Gyral.*.*',\n",
       " '417': 'Left Cerebrum.Occipital Lobe.Lingual Gyrus.Gray Matter.Brodmann area 19',\n",
       " '410': 'Left Cerebrum.Frontal Lobe.Middle Frontal Gyrus.Gray Matter.Brodmann area 10',\n",
       " '411': 'Right Cerebrum.Frontal Lobe.Middle Frontal Gyrus.Gray Matter.Brodmann area 10',\n",
       " '412': 'Right Cerebrum.Frontal Lobe.Superior Frontal Gyrus.Gray Matter.Brodmann area 10',\n",
       " '413': 'Left Cerebrum.Frontal Lobe.Superior Frontal Gyrus.Gray Matter.Brodmann area 10',\n",
       " '920': 'Left Cerebrum.Limbic Lobe.Precuneus.Gray Matter.Brodmann area 31',\n",
       " '498': 'Left Brainstem.Midbrain.*.Gray Matter.Medial Geniculum Body',\n",
       " '922': 'Right Cerebrum.Limbic Lobe.Cingulate Gyrus.White Matter.*',\n",
       " '923': 'Right Cerebrum.Limbic Lobe.Precuneus.Gray Matter.Brodmann area 31',\n",
       " '418': 'Right Cerebrum.Occipital Lobe.Lingual Gyrus.Gray Matter.Brodmann area 19',\n",
       " '419': 'Left Cerebrum.Occipital Lobe.Inferior Temporal Gyrus.*.*',\n",
       " '776': 'Left Cerebrum.Sub-lobar.Extra-Nuclear.White Matter.Pulvinar',\n",
       " '499': 'Right Brainstem.Midbrain.*.Gray Matter.Medial Geniculum Body',\n",
       " '319': 'Left Cerebrum.Occipital Lobe.Sub-Gyral.White Matter.*',\n",
       " '318': 'Right Cerebrum.*.Lingual Gyrus.*.*',\n",
       " '313': 'Right Cerebrum.*.Sub-Gyral.*.*',\n",
       " '312': 'Left Cerebrum.Occipital Lobe.Sub-Gyral.*.*',\n",
       " '311': 'Right Cerebrum.Occipital Lobe.Middle Occipital Gyrus.*.*',\n",
       " '310': 'Left Cerebrum.Occipital Lobe.Middle Occipital Gyrus.*.*',\n",
       " '317': '*.*.Middle Occipital Gyrus.*.*',\n",
       " '316': 'Right Cerebrum.Occipital Lobe.Middle Occipital Gyrus.Gray Matter.Brodmann area 19',\n",
       " '315': 'Left Cerebrum.Occipital Lobe.Middle Occipital Gyrus.Gray Matter.Brodmann area 19',\n",
       " '314': 'Right Cerebrum.Occipital Lobe.Sub-Gyral.*.*',\n",
       " '861': 'Left Cerebrum.Parietal Lobe.Precuneus.*.*',\n",
       " '921': 'Left Cerebrum.Limbic Lobe.Cingulate Gyrus.White Matter.*',\n",
       " '496': 'Right Cerebrum.Sub-lobar.Extra-Nuclear.White Matter.Caudate Tail',\n",
       " '832': 'Right Cerebrum.Sub-lobar.Posterior Cingulate.White Matter.*',\n",
       " '833': 'Left Cerebrum.Frontal Lobe.Postcentral Gyrus.White Matter.*',\n",
       " '830': 'Right Cerebrum.Occipital Lobe.Precuneus.Gray Matter.Brodmann area 23',\n",
       " '497': 'Left Cerebrum.Sub-lobar.*.Gray Matter.Lateral Geniculum Body',\n",
       " '836': 'Right Cerebrum.Frontal Lobe.Postcentral Gyrus.Gray Matter.Brodmann area 4',\n",
       " '837': '*.*.Precentral Gyrus.*.*',\n",
       " '834': 'Right Cerebrum.Frontal Lobe.Postcentral Gyrus.White Matter.*',\n",
       " '835': 'Left Cerebrum.Frontal Lobe.Postcentral Gyrus.Gray Matter.Brodmann area 4',\n",
       " '838': 'Left Cerebrum.Limbic Lobe.Anterior Cingulate.Gray Matter.Brodmann area 33',\n",
       " '839': 'Right Cerebrum.Limbic Lobe.Anterior Cingulate.Gray Matter.Brodmann area 33',\n",
       " '808': 'Left Cerebrum.Frontal Lobe.Precentral Gyrus.Gray Matter.Brodmann area 4',\n",
       " '3': 'Left Cerebellum.Posterior Lobe.Cerebellar Tonsil.Gray Matter.*',\n",
       " '725': 'Left Cerebrum.Sub-lobar.Thalamus.Gray Matter.Lateral Posterior Nucleus',\n",
       " '368': 'Right Cerebrum.Temporal Lobe.Sub-Gyral.Gray Matter.Brodmann area 13',\n",
       " '369': 'Left Cerebrum.Sub-lobar.Extra-Nuclear.Gray Matter.Brodmann area 13',\n",
       " '366': 'Left Cerebrum.Temporal Lobe.Sub-Gyral.Gray Matter.Brodmann area 13',\n",
       " '367': 'Right Cerebrum.Temporal Lobe.Superior Temporal Gyrus.Gray Matter.Brodmann area 13',\n",
       " '364': 'Right Cerebrum.Sub-lobar.*.Gray Matter.Hypothalamus',\n",
       " '365': 'Left Cerebrum.Temporal Lobe.Superior Temporal Gyrus.Gray Matter.Brodmann area 13',\n",
       " '362': 'Left Cerebrum.Sub-lobar.Third Ventricle.Cerebro-Spinal Fluid.*',\n",
       " '363': 'Left Cerebrum.Sub-lobar.*.Gray Matter.Hypothalamus',\n",
       " '360': 'Right Cerebrum.Sub-lobar.Third Ventricle.Cerebro-Spinal Fluid.*',\n",
       " '361': 'Right Cerebrum.Sub-lobar.Extra-Nuclear.White Matter.Optic Tract',\n",
       " '959': 'Right Cerebrum.Temporal Lobe.Angular Gyrus.Gray Matter.Brodmann area 39',\n",
       " '952': 'Left Cerebrum.Occipital Lobe.Cuneus.Gray Matter.Brodmann area 7',\n",
       " '882': 'Left Cerebrum.Parietal Lobe.Supramarginal Gyrus.*.*',\n",
       " '380': 'Left Cerebrum.Limbic Lobe.Anterior Cingulate.Gray Matter.Brodmann area 25',\n",
       " '381': 'Right Cerebrum.Limbic Lobe.Anterior Cingulate.Gray Matter.Brodmann area 25',\n",
       " '382': 'Right Cerebrum.Sub-lobar.Lentiform Nucleus.Gray Matter.Putamen',\n",
       " '383': 'Right Cerebrum.Sub-lobar.Extra-Nuclear.*.*',\n",
       " '384': 'Right Cerebrum.Temporal Lobe.Sub-Gyral.*.*',\n",
       " '385': 'Left Cerebrum.Sub-lobar.*.Gray Matter.*',\n",
       " '386': 'Right Cerebrum.Sub-lobar.*.Gray Matter.*',\n",
       " '387': '*.Temporal Lobe.Superior Temporal Gyrus.*.*',\n",
       " '388': 'Left Cerebrum.Frontal Lobe.Sub-Gyral.*.*',\n",
       " '389': 'Right Cerebrum.Frontal Lobe.Sub-Gyral.*.*',\n",
       " '784': 'Left Cerebrum.Parietal Lobe.Postcentral Gyrus.White Matter.*',\n",
       " '785': 'Left Cerebrum.Sub-lobar.Insula.Gray Matter.Brodmann area 40',\n",
       " '786': 'Right Cerebrum.Parietal Lobe.Postcentral Gyrus.White Matter.*',\n",
       " '787': 'Left Cerebrum.Sub-lobar.Thalamus.Gray Matter.Lateral Dorsal Nucleus',\n",
       " '780': 'Right Cerebrum.Parietal Lobe.Superior Temporal Gyrus.*.*',\n",
       " '781': 'Right Cerebrum.Sub-lobar.Insula.Gray Matter.Brodmann area 40',\n",
       " '782': 'Right Cerebrum.Parietal Lobe.Postcentral Gyrus.*.*',\n",
       " '783': 'Left Cerebrum.Parietal Lobe.Superior Temporal Gyrus.*.*',\n",
       " '788': 'Right Cerebrum.Sub-lobar.Thalamus.Gray Matter.Lateral Dorsal Nucleus',\n",
       " '789': 'Left Cerebrum.*.Postcentral Gyrus.*.*',\n",
       " '860': 'Left Cerebrum.Parietal Lobe.Precuneus.White Matter.*',\n",
       " '605': 'Left Cerebrum.Limbic Lobe.Anterior Cingulate.Gray Matter.*',\n",
       " '579': 'Left Cerebrum.Sub-lobar.Thalamus.Gray Matter.Ventral Posterior Lateral Nucleus',\n",
       " '578': 'Left Cerebrum.Temporal Lobe.Insula.Gray Matter.*',\n",
       " '604': 'Left Cerebrum.Sub-lobar.Inferior Frontal Gyrus.Gray Matter.Brodmann area 47',\n",
       " '573': 'Right Cerebrum.Temporal Lobe.Extra-Nuclear.White Matter.*',\n",
       " '572': 'Left Cerebrum.Temporal Lobe.*.White Matter.*',\n",
       " '571': 'Left Cerebrum.Temporal Lobe.*.Cerebro-Spinal Fluid.Caudate Tail',\n",
       " '570': 'Left Cerebrum.Limbic Lobe.Parahippocampal Gyrus.Gray Matter.*',\n",
       " '577': 'Right Cerebrum.*.Superior Temporal Gyrus.*.*',\n",
       " '576': 'Left Brainstem.Midbrain.Extra-Nuclear.White Matter.*',\n",
       " '575': 'Right Cerebrum.Temporal Lobe.Superior Temporal Gyrus.Gray Matter.*',\n",
       " '574': 'Right Brainstem.*.*.*.*',\n",
       " '60': 'Right Cerebrum.Limbic Lobe.Superior Temporal Gyrus.Gray Matter.Brodmann area 38',\n",
       " '61': 'Left Cerebellum.Posterior Lobe.Pyramis.Gray Matter.*',\n",
       " '258': 'Left Cerebrum.Occipital Lobe.Fusiform Gyrus.Gray Matter.Brodmann area 19',\n",
       " '259': 'Right Cerebrum.Occipital Lobe.Fusiform Gyrus.Gray Matter.Brodmann area 19',\n",
       " '64': 'Right Cerebellum.Posterior Lobe.Uvula.Gray Matter.*',\n",
       " '65': 'Right Cerebellum.*.*.Gray Matter.*',\n",
       " '66': 'Left Cerebellum.*.*.Gray Matter.*',\n",
       " '67': 'Left Cerebellum.Posterior Lobe.Uvula of Vermis.Gray Matter.*',\n",
       " '252': 'Left Cerebrum.Occipital Lobe.Lingual Gyrus.White Matter.*',\n",
       " '69': 'Right Cerebellum.Sub-lobar.Fourth Ventricle.Cerebro-Spinal Fluid.*',\n",
       " '250': 'Left Cerebrum.Occipital Lobe.Inferior Occipital Gyrus.Gray Matter.Brodmann area 18',\n",
       " '251': 'Left Cerebrum.Occipital Lobe.Inferior Occipital Gyrus.*.*',\n",
       " '256': 'Right Cerebrum.Occipital Lobe.Inferior Occipital Gyrus.White Matter.*',\n",
       " '257': 'Right Cerebrum.Occipital Lobe.Inferior Occipital Gyrus.*.*',\n",
       " '254': 'Right Cerebrum.Occipital Lobe.Inferior Occipital Gyrus.Gray Matter.Brodmann area 18',\n",
       " '255': 'Left Cerebrum.Occipital Lobe.Inferior Occipital Gyrus.White Matter.*',\n",
       " '603': 'Right Cerebrum.Frontal Lobe.Inferior Frontal Gyrus.Gray Matter.Brodmann area 45',\n",
       " '602': 'Left Cerebrum.Frontal Lobe.Inferior Frontal Gyrus.Gray Matter.Brodmann area 45',\n",
       " '939': 'Left Cerebrum.Frontal Lobe.Precentral Gyrus.Gray Matter.Brodmann area 3',\n",
       " '731': 'Right Cerebrum.Temporal Lobe.Precentral Gyrus.White Matter.*',\n",
       " '730': 'Right Cerebrum.Temporal Lobe.Transverse Temporal Gyrus.*.*',\n",
       " '733': 'Left Cerebrum.Frontal Lobe.Precentral Gyrus.Gray Matter.Brodmann area 13',\n",
       " '732': 'Left Cerebrum.Frontal Lobe.Transverse Temporal Gyrus.White Matter.*',\n",
       " '735': 'Right Cerebrum.Frontal Lobe.Precentral Gyrus.Gray Matter.Brodmann area 13',\n",
       " '734': 'Left Cerebrum.Sub-lobar.Precentral Gyrus.Gray Matter.Brodmann area 13',\n",
       " '508': 'Left Cerebrum.Sub-lobar.Extra-Nuclear.White Matter.Corpus Callosum',\n",
       " '509': 'Inter-Hemispheric.*.*.White Matter.Corpus Callosum',\n",
       " '506': 'Right Cerebrum.Sub-lobar.Extra-Nuclear.White Matter.Anterior Commissure',\n",
       " '507': 'Left Cerebrum.Frontal-Temporal Space.Superior Temporal Gyrus.*.*',\n",
       " '504': 'Left Cerebrum.Sub-lobar.Extra-Nuclear.White Matter.Anterior Commissure',\n",
       " '505': 'Inter-Hemispheric.*.*.White Matter.Anterior Commissure',\n",
       " '502': 'Right Cerebrum.Midbrain.Extra-Nuclear.White Matter.*',\n",
       " '503': 'Left Brainstem.Midbrain.*.White Matter.*',\n",
       " '500': 'Right Cerebrum.Sub-lobar.*.Gray Matter.Lateral Geniculum Body',\n",
       " '501': 'Left Cerebrum.Sub-lobar.Lentiform Nucleus.Gray Matter.*',\n",
       " '630': 'Right Cerebrum.Temporal Lobe.Middle Occipital Gyrus.White Matter.*',\n",
       " '631': 'Left Cerebrum.Limbic Lobe.Parahippocampal Gyrus.Gray Matter.Brodmann area 18',\n",
       " '632': 'Right Cerebrum.Limbic Lobe.Parahippocampal Gyrus.Gray Matter.Brodmann area 18',\n",
       " '633': 'Inter-Hemispheric.Sub-lobar.Extra-Nuclear.Cerebro-Spinal Fluid.Optic Tract',\n",
       " '469': 'Left Cerebrum.Limbic Lobe.Anterior Cingulate.Gray Matter.Brodmann area 24',\n",
       " '468': 'Left Cerebrum.Sub-lobar.Insula.Gray Matter.Brodmann area 47',\n",
       " '636': 'Left Cerebrum.Sub-lobar.Thalamus.Gray Matter.Medial Dorsal Nucleus',\n",
       " '637': 'Right Cerebrum.Sub-lobar.Thalamus.Gray Matter.Medial Dorsal Nucleus',\n",
       " '465': 'Right Cerebrum.Sub-lobar.Caudate.Gray Matter.Caudate Head',\n",
       " '464': 'Left Cerebrum.Sub-lobar.Caudate.Gray Matter.Caudate Head',\n",
       " '467': 'Right Cerebrum.Sub-lobar.Inferior Frontal Gyrus.Gray Matter.Brodmann area 47',\n",
       " '466': 'Right Cerebrum.Sub-lobar.Insula.Gray Matter.Brodmann area 47',\n",
       " '461': 'Left Cerebrum.Sub-lobar.*.White Matter.*',\n",
       " '460': 'Right Cerebrum.Temporal Lobe.Middle Temporal Gyrus.Gray Matter.Brodmann area 22',\n",
       " '463': 'Right Cerebrum.Temporal Lobe.Insula.*.*',\n",
       " '462': 'Right Cerebrum.Sub-lobar.*.White Matter.*',\n",
       " '901': 'Right Cerebrum.Frontal Lobe.Precentral Gyrus.Gray Matter.Brodmann area 9',\n",
       " '168': '*.Temporal Lobe.Fusiform Gyrus.*.*',\n",
       " '169': 'Left Cerebrum.Limbic Lobe.Parahippocampal Gyrus.Gray Matter.Brodmann area 28',\n",
       " '164': 'Right Cerebellum.Posterior Lobe.*.Gray Matter.Dentate',\n",
       " '165': 'Left Cerebellum.Anterior Lobe.Fastigium.Gray Matter.*',\n",
       " '166': 'Right Cerebrum.Temporal Lobe.Fusiform Gyrus.Gray Matter.Brodmann area 36',\n",
       " '167': 'Right Cerebrum.*.Fusiform Gyrus.Gray Matter.Brodmann area 20',\n",
       " '160': 'Right Cerebellum.Posterior Lobe.Declive of Vermis.Gray Matter.*',\n",
       " '161': 'Left Cerebellum.Posterior Lobe.*.Gray Matter.Dentate',\n",
       " '162': 'Left Cerebellum.Posterior Lobe.Fastigium.Gray Matter.*',\n",
       " '163': 'Right Cerebellum.Anterior Lobe.Fastigium.Gray Matter.*',\n",
       " '964': 'Right Cerebrum.Parietal Lobe.Cuneus.White Matter.*',\n",
       " '965': 'Left Cerebrum.Parietal Lobe.Angular Gyrus.White Matter.*',\n",
       " '966': 'Right Cerebrum.Parietal Lobe.Angular Gyrus.White Matter.*',\n",
       " '967': 'Left Cerebrum.Parietal Lobe.Angular Gyrus.Gray Matter.Brodmann area 39',\n",
       " '960': 'Right Cerebrum.Temporal Lobe.Angular Gyrus.*.*',\n",
       " '961': 'Left Cerebrum.Temporal Lobe.Angular Gyrus.White Matter.*',\n",
       " '962': 'Right Cerebrum.Temporal Lobe.Angular Gyrus.White Matter.*',\n",
       " '963': 'Left Cerebrum.Parietal Lobe.Cuneus.White Matter.*',\n",
       " '968': 'Left Cerebrum.Parietal Lobe.Precuneus.Gray Matter.Brodmann area 7',\n",
       " '969': 'Right Cerebrum.Occipital Lobe.Precuneus.Gray Matter.Brodmann area 7',\n",
       " '936': 'Left Cerebrum.Frontal Lobe.Inferior Parietal Lobule.White Matter.*',\n",
       " '1104': 'Left Cerebrum.Parietal Lobe.Paracentral Lobule.Gray Matter.Brodmann area 4',\n",
       " '1105': 'Right Cerebrum.Parietal Lobe.Paracentral Lobule.Gray Matter.Brodmann area 4',\n",
       " '1102': 'Right Cerebrum.Parietal Lobe.Postcentral Gyrus.Gray Matter.Brodmann area 7',\n",
       " '935': 'Right Cerebrum.Limbic Lobe.Cingulate Gyrus.Gray Matter.Brodmann area 23',\n",
       " '1100': 'Right Cerebrum.Frontal Lobe.Medial Frontal Gyrus.Gray Matter.Brodmann area 4',\n",
       " '1101': 'Left Cerebrum.Parietal Lobe.Postcentral Gyrus.Gray Matter.Brodmann area 7',\n",
       " '934': 'Left Cerebrum.Limbic Lobe.Cingulate Gyrus.Gray Matter.Brodmann area 23',\n",
       " '908': 'Left Cerebrum.Occipital Lobe.Superior Occipital Gyrus.Gray Matter.Brodmann area 39',\n",
       " '909': 'Left Cerebrum.Occipital Lobe.Cuneus.Gray Matter.Brodmann area 31',\n",
       " '1096': 'Right Cerebrum.Parietal Lobe.Postcentral Gyrus.Gray Matter.Brodmann area 5',\n",
       " '1090': 'Right Cerebrum.Frontal Lobe.Paracentral Lobule.Gray Matter.Brodmann area 4',\n",
       " '1091': 'Right Cerebrum.Frontal Lobe.Paracentral Lobule.Gray Matter.Brodmann area 3',\n",
       " '600': 'Right Cerebrum.Frontal Lobe.Inferior Frontal Gyrus.Gray Matter.*',\n",
       " '878': 'Left Cerebrum.Parietal Lobe.Inferior Parietal Lobule.Gray Matter.Brodmann area 40',\n",
       " '879': 'Left Cerebrum.Parietal Lobe.Inferior Parietal Lobule.White Matter.*',\n",
       " '876': 'Right Cerebrum.Temporal Lobe.Inferior Parietal Lobule.White Matter.*',\n",
       " '877': 'Left Cerebrum.Temporal Lobe.Inferior Parietal Lobule.Gray Matter.Brodmann area 40',\n",
       " '874': 'Left Cerebrum.Temporal Lobe.Inferior Parietal Lobule.White Matter.*',\n",
       " '875': 'Right Cerebrum.Parietal Lobe.Extra-Nuclear.White Matter.*',\n",
       " '872': 'Right Cerebrum.Temporal Lobe.Supramarginal Gyrus.Gray Matter.Brodmann area 40',\n",
       " '873': 'Right Cerebrum.Temporal Lobe.Supramarginal Gyrus.*.*',\n",
       " '870': 'Left Cerebrum.Temporal Lobe.Supramarginal Gyrus.White Matter.*',\n",
       " '871': 'Right Cerebrum.Temporal Lobe.Supramarginal Gyrus.White Matter.*',\n",
       " '9': 'Left Cerebrum.Temporal Lobe.Inferior Temporal Gyrus.*.*',\n",
       " '890': 'Left Cerebrum.Limbic Lobe.*.White Matter.*',\n",
       " '891': 'Left Cerebrum.Parietal Lobe.Postcentral Gyrus.Gray Matter.Brodmann area 2',\n",
       " '892': 'Right Cerebrum.Parietal Lobe.Postcentral Gyrus.Gray Matter.Brodmann area 2',\n",
       " '893': 'Left Cerebrum.Parietal Lobe.Postcentral Gyrus.Gray Matter.Brodmann area 1',\n",
       " '894': 'Right Cerebrum.Parietal Lobe.Postcentral Gyrus.Gray Matter.Brodmann area 1',\n",
       " '647': 'Right Cerebrum.Sub-lobar.Thalamus.Gray Matter.Ventral Anterior Nucleus',\n",
       " '896': 'Right Cerebrum.Parietal Lobe.Postcentral Gyrus.Gray Matter.Brodmann area 3',\n",
       " '897': 'Left Cerebrum.Frontal Lobe.Postcentral Gyrus.Gray Matter.Brodmann area 3',\n",
       " '898': 'Right Cerebrum.Frontal Lobe.Postcentral Gyrus.Gray Matter.Brodmann area 3',\n",
       " '899': 'Left Cerebrum.Frontal Lobe.Inferior Frontal Gyrus.Gray Matter.Brodmann area 9',\n",
       " '1087': 'Right Cerebrum.Frontal Lobe.Paracentral Lobule.Gray Matter.Brodmann area 7',\n",
       " '646': 'Left Cerebrum.Sub-lobar.Thalamus.Gray Matter.Ventral Anterior Nucleus',\n",
       " '1099': 'Right Cerebrum.Parietal Lobe.Postcentral Gyrus.Gray Matter.Brodmann area 4',\n",
       " '649': 'Left Cerebrum.Frontal Lobe.Insula.*.*',\n",
       " '648': 'Left Cerebrum.Frontal-Temporal Space.Insula.*.*',\n",
       " '1086': 'Right Cerebrum.Frontal Lobe.Precuneus.Gray Matter.Brodmann area 5',\n",
       " '357': 'Right Cerebrum.*.*.White Matter.*',\n",
       " '356': 'Left Cerebrum.Sub-lobar.*.Gray Matter.Amygdala',\n",
       " '355': 'Right Brainstem.Midbrain.*.Gray Matter.Mammillary Body',\n",
       " '354': 'Left Brainstem.Midbrain.*.Gray Matter.Mammillary Body',\n",
       " '353': 'Left Cerebrum.Temporal Lobe.Extra-Nuclear.White Matter.*',\n",
       " '352': 'Left Cerebrum.Temporal Lobe.Sub-Gyral.Gray Matter.Brodmann area 21',\n",
       " '351': 'Left Cerebrum.Temporal Lobe.Caudate.Gray Matter.Caudate Tail',\n",
       " '350': 'Right Cerebrum.Temporal Lobe.Caudate.Gray Matter.Caudate Tail',\n",
       " '803': 'Left Cerebrum.Parietal Lobe.Precentral Gyrus.*.*',\n",
       " '802': 'Right Cerebrum.Parietal Lobe.Precentral Gyrus.White Matter.*',\n",
       " '801': 'Left Cerebrum.Parietal Lobe.Extra-Nuclear.White Matter.*',\n",
       " '800': 'Left Cerebrum.Parietal Lobe.Precentral Gyrus.White Matter.*',\n",
       " '807': 'Right Cerebrum.Parietal Lobe.Precentral Gyrus.*.*',\n",
       " '806': 'Right Cerebrum.Parietal Lobe.Precentral Gyrus.Gray Matter.Brodmann area 4',\n",
       " '359': 'Left Cerebrum.Sub-lobar.Extra-Nuclear.White Matter.Optic Tract',\n",
       " '358': 'Right Cerebrum.Sub-lobar.*.Gray Matter.Amygdala',\n",
       " '216': 'Right Brainstem.Midbrain.*.*.*',\n",
       " '217': 'Left Cerebrum.Limbic Lobe.Parahippocampal Gyrus.Gray Matter.Brodmann area 20',\n",
       " '214': 'Right Cerebrum.Temporal Lobe.Inferior Temporal Gyrus.Gray Matter.Brodmann area 37',\n",
       " '215': 'Left Brainstem.Midbrain.*.*.*',\n",
       " '212': 'Right Cerebellum.Anterior Lobe.Cerebellar Lingual.Gray Matter.*',\n",
       " '213': 'Left Cerebrum.Temporal Lobe.Inferior Temporal Gyrus.Gray Matter.Brodmann area 37',\n",
       " '210': 'Right Cerebrum.*.Fusiform Gyrus.*.*',\n",
       " '211': 'Left Cerebellum.Anterior Lobe.Cerebellar Lingual.Gray Matter.*',\n",
       " '762': 'Left Cerebrum.Limbic Lobe.Posterior Cingulate.Gray Matter.Brodmann area 23',\n",
       " '763': 'Right Cerebrum.Limbic Lobe.Posterior Cingulate.Gray Matter.Brodmann area 23',\n",
       " '760': 'Right Cerebrum.Limbic Lobe.Posterior Cingulate.Gray Matter.Brodmann area 18',\n",
       " '761': 'Right Cerebrum.Limbic Lobe.Posterior Cingulate.Gray Matter.*',\n",
       " '766': 'Right Cerebrum.Occipital Lobe.Middle Temporal Gyrus.Gray Matter.Brodmann area 22',\n",
       " '767': 'Left Cerebrum.Occipital Lobe.Superior Temporal Gyrus.Gray Matter.Brodmann area 22',\n",
       " '218': 'Right Cerebrum.Limbic Lobe.Parahippocampal Gyrus.Gray Matter.Brodmann area 20',\n",
       " '219': 'Left Cerebrum.Limbic Lobe.Parahippocampal Gyrus.Gray Matter.Amygdala',\n",
       " '957': 'Left Cerebrum.Temporal Lobe.Angular Gyrus.*.*',\n",
       " '956': 'Right Cerebrum.Occipital Lobe.Angular Gyrus.*.*',\n",
       " '1033': 'Left Cerebrum.Frontal Lobe.Medial Frontal Gyrus.Gray Matter.Brodmann area 8',\n",
       " '1078': 'Right Cerebrum.Frontal Lobe.Superior Frontal Gyrus.Gray Matter.Brodmann area 6',\n",
       " '1079': 'Right Cerebrum.*.Superior Parietal Lobule.*.*',\n",
       " '1076': 'Right Cerebrum.Frontal Lobe.Paracentral Lobule.Gray Matter.Brodmann area 6',\n",
       " '1077': 'Left Cerebrum.Frontal Lobe.Superior Frontal Gyrus.Gray Matter.Brodmann area 6',\n",
       " '1074': 'Right Cerebrum.Frontal Lobe.Precuneus.White Matter.*',\n",
       " '1075': 'Left Cerebrum.Frontal Lobe.Paracentral Lobule.Gray Matter.Brodmann area 6',\n",
       " '1072': 'Right Cerebrum.Parietal Lobe.Paracentral Lobule.*.*',\n",
       " '1073': 'Right Cerebrum.Parietal Lobe.Paracentral Lobule.White Matter.*',\n",
       " '1070': 'Right Cerebrum.Frontal Lobe.Paracentral Lobule.Gray Matter.Brodmann area 5',\n",
       " '1071': 'Left Cerebrum.Parietal Lobe.Paracentral Lobule.*.*',\n",
       " '289': 'Left Cerebrum.Temporal Lobe.Inferior Frontal Gyrus.White Matter.*',\n",
       " '288': 'Left Cerebrum.Temporal Lobe.Inferior Frontal Gyrus.Gray Matter.Brodmann area 13',\n",
       " '1003': 'Left Cerebrum.Parietal Lobe.Postcentral Gyrus.Gray Matter.Brodmann area 4',\n",
       " '4': 'Right Cerebellum.Posterior Lobe.Cerebellar Tonsil.Gray Matter.*',\n",
       " '281': 'Left Cerebrum.Frontal Lobe.Subcallosal Gyrus.Gray Matter.Brodmann area 25',\n",
       " '280': 'Left Cerebrum.Frontal Lobe.Subcallosal Gyrus.Gray Matter.Brodmann area 34',\n",
       " '283': 'Right Cerebrum.Frontal Lobe.Subcallosal Gyrus.Gray Matter.Brodmann area 34',\n",
       " '282': 'Right Cerebrum.Frontal Lobe.Subcallosal Gyrus.Gray Matter.Brodmann area 25',\n",
       " '285': 'Right Cerebrum.Limbic Lobe.Subcallosal Gyrus.Gray Matter.Brodmann area 34',\n",
       " '284': 'Right Cerebrum.Limbic Lobe.Subcallosal Gyrus.*.*',\n",
       " '287': 'Left Cerebrum.Temporal Lobe.Subcallosal Gyrus.Gray Matter.Brodmann area 34',\n",
       " '286': 'Left Cerebrum.Temporal Lobe.Superior Temporal Gyrus.Gray Matter.Brodmann area 21',\n",
       " '1094': 'Right Cerebrum.Frontal Lobe.Sub-Gyral.Gray Matter.Brodmann area 6',\n",
       " '1095': 'Left Cerebrum.Parietal Lobe.Postcentral Gyrus.Gray Matter.Brodmann area 5',\n",
       " '1083': 'Left Cerebrum.Frontal Lobe.Precuneus.Gray Matter.Brodmann area 5',\n",
       " '1097': 'Left Cerebrum.Parietal Lobe.Superior Parietal Lobule.Gray Matter.Brodmann area 5',\n",
       " '678': 'Left Cerebrum.Temporal Lobe.Precentral Gyrus.*.*',\n",
       " '679': 'Left Cerebrum.Frontal Lobe.Precentral Gyrus.*.*',\n",
       " '1092': 'Right Cerebrum.Frontal Lobe.Sub-Gyral.Gray Matter.Brodmann area 3',\n",
       " '1093': 'Right Cerebrum.Frontal Lobe.Sub-Gyral.Gray Matter.Brodmann area 4',\n",
       " '674': 'Left Cerebrum.Temporal Lobe.Superior Temporal Gyrus.Gray Matter.Brodmann area 42',\n",
       " '675': 'Right Cerebrum.Temporal Lobe.Superior Temporal Gyrus.Gray Matter.Brodmann area 42',\n",
       " '676': 'Right Cerebrum.Sub-lobar.Extra-Nuclear.White Matter.Pulvinar',\n",
       " '677': 'Left Cerebrum.Sub-lobar.Extra-Nuclear.White Matter.Ventral Posterior Lateral Nucleus',\n",
       " '670': 'Left Cerebrum.Limbic Lobe.Posterior Cingulate.Gray Matter.Brodmann area 29',\n",
       " '671': 'Right Cerebrum.Limbic Lobe.Posterior Cingulate.Gray Matter.Brodmann area 29',\n",
       " '672': 'Left Cerebrum.Temporal Lobe.Superior Temporal Gyrus.Gray Matter.Brodmann area 41',\n",
       " '673': 'Right Cerebrum.Temporal Lobe.Superior Temporal Gyrus.Gray Matter.Brodmann area 41',\n",
       " '263': 'Right Cerebrum.Occipital Lobe.*.Gray Matter.Brodmann area 19',\n",
       " '262': 'Right Cerebrum.*.Inferior Occipital Gyrus.*.*',\n",
       " '261': 'Left Cerebrum.*.Inferior Occipital Gyrus.*.*',\n",
       " '260': '*.*.Inferior Occipital Gyrus.*.*',\n",
       " '267': 'Left Cerebrum.Temporal Lobe.*.Gray Matter.Brodmann area 37',\n",
       " '266': 'Right Cerebrum.Temporal Lobe.Fusiform Gyrus.Gray Matter.Brodmann area 19',\n",
       " '265': 'Left Cerebrum.Temporal Lobe.Fusiform Gyrus.Gray Matter.Brodmann area 19',\n",
       " '264': 'Left Cerebrum.Occipital Lobe.*.Gray Matter.Brodmann area 19',\n",
       " '1031': 'Left Cerebrum.Frontal Lobe.Sub-Gyral.Gray Matter.Brodmann area 32',\n",
       " '269': 'Left Cerebrum.Temporal Lobe.Middle Temporal Gyrus.Gray Matter.Brodmann area 37',\n",
       " '268': 'Right Cerebrum.Temporal Lobe.*.Gray Matter.Brodmann area 37',\n",
       " '701': 'Right Cerebrum.Occipital Lobe.Middle Temporal Gyrus.White Matter.*',\n",
       " '59': 'Left Cerebrum.Limbic Lobe.Superior Temporal Gyrus.Gray Matter.Brodmann area 38',\n",
       " '58': 'Right Cerebrum.*.Uncus.*.*',\n",
       " '55': 'Right Cerebrum.Limbic Lobe.Sub-Gyral.White Matter.*',\n",
       " '54': '*.*.Middle Temporal Gyrus.*.*',\n",
       " '57': 'Right Cerebrum.Limbic Lobe.Superior Temporal Gyrus.White Matter.*',\n",
       " '56': 'Left Cerebrum.Limbic Lobe.Superior Temporal Gyrus.White Matter.*',\n",
       " '51': 'Left Cerebrum.Temporal Lobe.Sub-Gyral.White Matter.*',\n",
       " '50': 'Right Cerebrum.Limbic Lobe.Inferior Temporal Gyrus.White Matter.*',\n",
       " '53': 'Left Cerebrum.Limbic Lobe.*.Gray Matter.Brodmann area 20',\n",
       " '52': 'Right Cerebrum.Temporal Lobe.Sub-Gyral.White Matter.*',\n",
       " '537': 'Inter-Hemispheric.Occipital Lobe.Cuneus.Gray Matter.Brodmann area 18',\n",
       " '536': 'Right Cerebrum.*.Cuneus.Gray Matter.*',\n",
       " '535': 'Right Cerebrum.Occipital Lobe.Cuneus.Gray Matter.*',\n",
       " '63': 'Left Cerebellum.Posterior Lobe.Uvula.Gray Matter.*',\n",
       " '533': 'Left Cerebrum.Occipital Lobe.Cuneus.Gray Matter.*',\n",
       " '532': 'Left Cerebrum.Temporal Lobe.Superior Temporal Gyrus.Gray Matter.*',\n",
       " '531': 'Right Cerebrum.Sub-lobar.Thalamus.Gray Matter.*',\n",
       " '530': '*.Sub-lobar.Extra-Nuclear.White Matter.*',\n",
       " '539': 'Right Cerebrum.Occipital Lobe.*.Gray Matter.*',\n",
       " '538': 'Inter-Hemispheric.*.Cuneus.*.*',\n",
       " '987': 'Right Cerebrum.Parietal Lobe.Precuneus.Gray Matter.Brodmann area 19',\n",
       " '775': 'Left Cerebrum.Parietal Lobe.Insula.White Matter.*',\n",
       " '988': 'Inter-Hemispheric.*.Precuneus.*.*',\n",
       " '989': 'Right Cerebrum.Parietal Lobe.Precuneus.Gray Matter.Brodmann area 39',\n",
       " '774': 'Left Cerebrum.Parietal Lobe.Postcentral Gyrus.Gray Matter.Brodmann area 40',\n",
       " '982': 'Right Cerebrum.Limbic Lobe.Cingulate Gyrus.Gray Matter.Brodmann area 9',\n",
       " '983': 'Left Cerebrum.Frontal Lobe.Sub-Gyral.Gray Matter.Brodmann area 9',\n",
       " '980': 'Right Cerebrum.Frontal Lobe.Postcentral Gyrus.*.*',\n",
       " '981': 'Left Cerebrum.Limbic Lobe.Cingulate Gyrus.Gray Matter.Brodmann area 9',\n",
       " '986': 'Left Cerebrum.Parietal Lobe.Precuneus.Gray Matter.Brodmann area 19',\n",
       " '777': 'Right Cerebrum.Parietal Lobe.Insula.White Matter.*',\n",
       " '984': 'Right Cerebrum.Frontal Lobe.Sub-Gyral.Gray Matter.Brodmann area 9',\n",
       " '985': 'Left Cerebrum.Parietal Lobe.Cuneus.*.*',\n",
       " '115': 'Right Cerebellum.Posterior Lobe.Tuber of Vermis.Gray Matter.*',\n",
       " '114': 'Left Cerebellum.Posterior Lobe.Tuber of Vermis.Gray Matter.*',\n",
       " '117': 'Right Cerebellum.Anterior Lobe.Pyramis.Gray Matter.*',\n",
       " '116': 'Left Cerebellum.Anterior Lobe.Pyramis.Gray Matter.*',\n",
       " '111': '*.*.Orbital Gyrus.*.*',\n",
       " '110': 'Right Cerebrum.Frontal Lobe.Orbital Gyrus.*.*',\n",
       " '113': 'Right Cerebrum.Frontal Lobe.Orbital Gyrus.White Matter.*',\n",
       " '112': 'Left Cerebrum.Frontal Lobe.Orbital Gyrus.White Matter.*',\n",
       " '771': 'Right Cerebrum.Temporal Lobe.Insula.Gray Matter.Brodmann area 41',\n",
       " '119': 'Left Cerebellum.Anterior Lobe.*.Gray Matter.Dentate',\n",
       " '118': 'Right Cerebellum.Anterior Lobe.*.Gray Matter.Dentate',\n",
       " '770': 'Left Cerebrum.Temporal Lobe.Insula.Gray Matter.Brodmann area 41',\n",
       " '773': 'Left Cerebrum.Parietal Lobe.Postcentral Gyrus.*.*',\n",
       " '772': 'Left Cerebrum.Temporal Lobe.Postcentral Gyrus.*.*',\n",
       " '953': 'Right Cerebrum.Occipital Lobe.Cuneus.Gray Matter.Brodmann area 7',\n",
       " '429': 'Left Cerebrum.Limbic Lobe.Parahippocampal Gyrus.Gray Matter.Brodmann area 30',\n",
       " '428': 'Left Cerebrum.Limbic Lobe.Sub-Gyral.Gray Matter.Brodmann area 19',\n",
       " '534': 'Inter-Hemispheric.Occipital Lobe.*.Gray Matter.*',\n",
       " '919': 'Left Cerebrum.Limbic Lobe.Precuneus.White Matter.*',\n",
       " '918': 'Right Cerebrum.Temporal Lobe.Sub-Gyral.Gray Matter.Brodmann area 39',\n",
       " '421': 'Left Cerebrum.Occipital Lobe.Inferior Temporal Gyrus.Gray Matter.Brodmann area 19',\n",
       " '420': 'Left Cerebrum.Occipital Lobe.Inferior Temporal Gyrus.Gray Matter.Brodmann area 37',\n",
       " '423': 'Right Cerebrum.Occipital Lobe.Inferior Temporal Gyrus.Gray Matter.Brodmann area 19',\n",
       " '422': 'Right Cerebrum.Occipital Lobe.Inferior Temporal Gyrus.Gray Matter.Brodmann area 37',\n",
       " '425': 'Left Cerebrum.Limbic Lobe.Parahippocampal Gyrus.Gray Matter.Brodmann area 19',\n",
       " '424': 'Right Cerebrum.Limbic Lobe.Lingual Gyrus.White Matter.*',\n",
       " '427': 'Right Cerebrum.Limbic Lobe.Sub-Gyral.Gray Matter.Brodmann area 19',\n",
       " '426': 'Right Cerebrum.Limbic Lobe.Parahippocampal Gyrus.Gray Matter.Brodmann area 19',\n",
       " '308': 'Left Cerebrum.Occipital Lobe.Middle Occipital Gyrus.White Matter.*',\n",
       " '309': 'Right Cerebrum.Occipital Lobe.Middle Occipital Gyrus.White Matter.*',\n",
       " '855': 'Right Cerebrum.Temporal Lobe.Cuneus.White Matter.*',\n",
       " '300': 'Left Cerebrum.Frontal Lobe.Subcallosal Gyrus.Gray Matter.Brodmann area 11',\n",
       " '301': 'Right Cerebrum.Frontal Lobe.Subcallosal Gyrus.Gray Matter.Brodmann area 11',\n",
       " '302': 'Right Cerebrum.Frontal Lobe.Middle Frontal Gyrus.Gray Matter.Brodmann area 47',\n",
       " '303': 'Left Cerebrum.Occipital Lobe.Inferior Occipital Gyrus.Gray Matter.Brodmann area 17',\n",
       " '304': 'Right Cerebrum.*.*.Gray Matter.Brodmann area 18',\n",
       " '305': 'Right Cerebrum.Occipital Lobe.Inferior Occipital Gyrus.Gray Matter.Brodmann area 17',\n",
       " '306': 'Left Cerebrum.Occipital Lobe.Middle Occipital Gyrus.Gray Matter.Brodmann area 18',\n",
       " '307': 'Right Cerebrum.Occipital Lobe.Middle Occipital Gyrus.Gray Matter.Brodmann area 18',\n",
       " '895': 'Left Cerebrum.Parietal Lobe.Postcentral Gyrus.Gray Matter.Brodmann area 3',\n",
       " '825': 'Left Cerebrum.Occipital Lobe.Precuneus.*.*',\n",
       " '824': 'Right Cerebrum.Occipital Lobe.Precuneus.Gray Matter.Brodmann area 31',\n",
       " '827': 'Right Cerebrum.Occipital Lobe.Precuneus.Gray Matter.Brodmann area 18',\n",
       " '847': 'Right Cerebrum.Occipital Lobe.Superior Occipital Gyrus.*.*',\n",
       " '846': 'Left Cerebrum.Occipital Lobe.Superior Occipital Gyrus.*.*',\n",
       " '845': '*.*.Superior Occipital Gyrus.*.*',\n",
       " '826': 'Left Cerebrum.Occipital Lobe.Precuneus.Gray Matter.Brodmann area 18',\n",
       " '843': 'Left Cerebrum.Occipital Lobe.Cuneus.Gray Matter.Brodmann area 19',\n",
       " '842': '*.*.Cuneus.*.*',\n",
       " '841': 'Left Cerebrum.Frontal Lobe.Anterior Cingulate.Gray Matter.Brodmann area 9',\n",
       " '840': 'Inter-Hemispheric.*.Anterior Cingulate.*.*',\n",
       " '821': 'Left Cerebrum.Occipital Lobe.Precuneus.White Matter.*',\n",
       " '853': 'Right Cerebrum.Temporal Lobe.Superior Occipital Gyrus.*.*',\n",
       " '849': 'Right Cerebrum.Occipital Lobe.Superior Occipital Gyrus.Gray Matter.Brodmann area 19',\n",
       " '820': 'Left Cerebrum.Temporal Lobe.Middle Occipital Gyrus.Gray Matter.Brodmann area 19',\n",
       " '823': 'Left Cerebrum.Occipital Lobe.Precuneus.Gray Matter.Brodmann area 31',\n",
       " '822': 'Right Cerebrum.Occipital Lobe.Precuneus.White Matter.*',\n",
       " '954': '*.*.Angular Gyrus.*.*',\n",
       " '1034': 'Right Cerebrum.Frontal Lobe.Medial Frontal Gyrus.Gray Matter.Brodmann area 8',\n",
       " '1068': 'Left Cerebrum.Frontal Lobe.Paracentral Lobule.Gray Matter.Brodmann area 5',\n",
       " ...}"
      ]
     },
     "execution_count": 121,
     "metadata": {},
     "output_type": "execute_result"
    }
   ],
   "source": [
    "numNameDict"
   ]
  },
  {
   "cell_type": "markdown",
   "metadata": {
    "collapsed": false
   },
   "source": [
    "fslsplit Talairach-labels-1mm.nii.gz one -t"
   ]
  },
  {
   "cell_type": "markdown",
   "metadata": {
    "collapsed": false
   },
   "source": [
    "fslstats Talairach-labels-1mm.nii.gz -R"
   ]
  },
  {
   "cell_type": "markdown",
   "metadata": {
    "collapsed": false
   },
   "source": [
    "```\n",
    "for num,name in numNameDict.iteritems():\n",
    "    print num, name\n",
    "    command = 'fslmaths {inputImg} \\\n",
    "            -thr {num} \\\n",
    "            -uthr {num} \\\n",
    "            {outputImg}'.format(inputImg='Talairach-labels-1mm.nii.gz',\n",
    "                                num=num,\n",
    "                                outputImg=num+'.nii.gz')\n",
    "    os.popen(re.sub('\\s+',' ',command)).read()\n",
    "```"
   ]
  },
  {
   "cell_type": "code",
   "execution_count": 122,
   "metadata": {
    "collapsed": false
   },
   "outputs": [],
   "source": [
    "newDict={}\n",
    "for num,name in numNameDict.iteritems():\n",
    "    a=name.split('.')\n",
    "    \n",
    "    side=a[0].split(' ')[0]\n",
    "    lobe=a[1]\n",
    "    loc=a[2]\n",
    "    matter=a[3]\n",
    "    name=a[4]\n",
    "    \n",
    "    newDict[num] = (side,lobe,loc,matter,name)\n",
    "    \n",
    "    \n"
   ]
  },
  {
   "cell_type": "code",
   "execution_count": 123,
   "metadata": {
    "collapsed": false
   },
   "outputs": [
    {
     "data": {
      "text/plain": [
       "('Left',\n",
       " 'Limbic Lobe',\n",
       " 'Anterior Cingulate',\n",
       " 'Gray Matter',\n",
       " 'Brodmann area 32')"
      ]
     },
     "execution_count": 123,
     "metadata": {},
     "output_type": "execute_result"
    }
   ],
   "source": [
    "newDict['395']"
   ]
  },
  {
   "cell_type": "code",
   "execution_count": 344,
   "metadata": {
    "collapsed": false
   },
   "outputs": [
    {
     "data": {
      "text/plain": [
       "('Right', 'Temporal Lobe', 'Superior Temporal Gyrus', 'White Matter', '*')"
      ]
     },
     "execution_count": 344,
     "metadata": {},
     "output_type": "execute_result"
    }
   ],
   "source": [
    "newDict['42']"
   ]
  },
  {
   "cell_type": "code",
   "execution_count": 124,
   "metadata": {
    "collapsed": true
   },
   "outputs": [],
   "source": [
    "import nibabel as nib"
   ]
  },
  {
   "cell_type": "code",
   "execution_count": 457,
   "metadata": {
    "collapsed": true
   },
   "outputs": [],
   "source": [
    "f = nib.load('/ccnc_bin/CSD_extraction/talairach.nii')"
   ]
  },
  {
   "cell_type": "code",
   "execution_count": 458,
   "metadata": {
    "collapsed": true
   },
   "outputs": [],
   "source": [
    "data = f.get_data()"
   ]
  },
  {
   "cell_type": "code",
   "execution_count": 459,
   "metadata": {
    "collapsed": false
   },
   "outputs": [
    {
     "data": {
      "text/plain": [
       "(141, 172, 110)"
      ]
     },
     "execution_count": 459,
     "metadata": {},
     "output_type": "execute_result"
    }
   ],
   "source": [
    "data.shape"
   ]
  },
  {
   "cell_type": "code",
   "execution_count": 460,
   "metadata": {
    "collapsed": false
   },
   "outputs": [
    {
     "data": {
      "text/plain": [
       "942"
      ]
     },
     "execution_count": 460,
     "metadata": {},
     "output_type": "execute_result"
    }
   ],
   "source": [
    "data[77,91,80]"
   ]
  },
  {
   "cell_type": "code",
   "execution_count": 461,
   "metadata": {
    "collapsed": false
   },
   "outputs": [],
   "source": [
    "data\n",
    "M = f.affine[:3, :3]\n",
    "abc = f.affine[:3,3]"
   ]
  },
  {
   "cell_type": "code",
   "execution_count": 462,
   "metadata": {
    "collapsed": false
   },
   "outputs": [
    {
     "data": {
      "text/plain": [
       "array([[ 1.,  0.,  0.],\n",
       "       [ 0.,  1.,  0.],\n",
       "       [ 0.,  0.,  1.]])"
      ]
     },
     "execution_count": 462,
     "metadata": {},
     "output_type": "execute_result"
    }
   ],
   "source": [
    "M"
   ]
  },
  {
   "cell_type": "code",
   "execution_count": 463,
   "metadata": {
    "collapsed": false
   },
   "outputs": [
    {
     "data": {
      "text/plain": [
       "array([ -70., -102.,  -42.])"
      ]
     },
     "execution_count": 463,
     "metadata": {},
     "output_type": "execute_result"
    }
   ],
   "source": [
    "abc"
   ]
  },
  {
   "cell_type": "code",
   "execution_count": 466,
   "metadata": {
    "collapsed": false
   },
   "outputs": [
    {
     "data": {
      "text/plain": [
       "array([-45.,  12.,  30.])"
      ]
     },
     "execution_count": 466,
     "metadata": {},
     "output_type": "execute_result"
    }
   ],
   "source": [
    "mni2tal(25,114,72)"
   ]
  },
  {
   "cell_type": "code",
   "execution_count": 464,
   "metadata": {
    "collapsed": false
   },
   "outputs": [],
   "source": [
    "def mni2tal(i,j,k):\n",
    "    return M.dot([i,j,k]) + abc"
   ]
  },
  {
   "cell_type": "code",
   "execution_count": 465,
   "metadata": {
    "collapsed": true
   },
   "outputs": [],
   "source": [
    "def tal2mni(x,y,z):\n",
    "    return M.dot([x,y,z]-abc)"
   ]
  },
  {
   "cell_type": "code",
   "execution_count": 467,
   "metadata": {
    "collapsed": false
   },
   "outputs": [
    {
     "data": {
      "text/plain": [
       "array([ 63.1, -11.1,   0.3])"
      ]
     },
     "execution_count": 467,
     "metadata": {},
     "output_type": "execute_result"
    }
   ],
   "source": [
    "mni2tal(133.1,90.9,42.3)"
   ]
  },
  {
   "cell_type": "code",
   "execution_count": 347,
   "metadata": {
    "collapsed": false
   },
   "outputs": [
    {
     "data": {
      "text/plain": [
       "array([-44.,  12.,  30.])"
      ]
     },
     "execution_count": 347,
     "metadata": {},
     "output_type": "execute_result"
    }
   ],
   "source": [
    "mni2tal(26,114,72)"
   ]
  },
  {
   "cell_type": "code",
   "execution_count": 134,
   "metadata": {
    "collapsed": false
   },
   "outputs": [
    {
     "data": {
      "text/plain": [
       "array([  7., -11.,  38.])"
      ]
     },
     "execution_count": 134,
     "metadata": {},
     "output_type": "execute_result"
    }
   ],
   "source": [
    "mni2tal(77,91,80)"
   ]
  },
  {
   "cell_type": "code",
   "execution_count": 437,
   "metadata": {
    "collapsed": false
   },
   "outputs": [
    {
     "data": {
      "text/plain": [
       "array([ 77.,  91.,  80.])"
      ]
     },
     "execution_count": 437,
     "metadata": {},
     "output_type": "execute_result"
    }
   ],
   "source": [
    "tal2mni(7,-11,38)"
   ]
  },
  {
   "cell_type": "code",
   "execution_count": 436,
   "metadata": {
    "collapsed": false
   },
   "outputs": [
    {
     "name": "stdout",
     "output_type": "stream",
     "text": [
      "[[ 1.  0.  0.]\n",
      " [ 0.  1.  0.]\n",
      " [ 0.  0.  1.]] [ -70. -102.  -42.]\n",
      "133.1 90.9 42.3\n"
     ]
    },
    {
     "data": {
      "text/plain": [
       "'error'"
      ]
     },
     "execution_count": 436,
     "metadata": {},
     "output_type": "execute_result"
    }
   ],
   "source": [
    "coord_to_lobe([63.1,-11.1,0.3],f)"
   ]
  },
  {
   "cell_type": "code",
   "execution_count": 471,
   "metadata": {
    "collapsed": false
   },
   "outputs": [
    {
     "name": "stdout",
     "output_type": "stream",
     "text": [
      "[[ 1.  0.  0.]\n",
      " [ 0.  1.  0.]\n",
      " [ 0.  0.  1.]] [ -70. -102.  -42.]\n",
      "79.0 101.0 80.0\n"
     ]
    },
    {
     "data": {
      "text/plain": [
       "'error'"
      ]
     },
     "execution_count": 471,
     "metadata": {},
     "output_type": "execute_result"
    }
   ],
   "source": [
    "talairachImg = '/ccnc_bin/CSD_extraction/talairach.nii'\n",
    "f = nib.load(talairachImg)\n",
    "data = f.get_data()\n",
    "coord_to_lobe([9,  -1,  38],f)"
   ]
  },
  {
   "cell_type": "code",
   "execution_count": 137,
   "metadata": {
    "collapsed": true
   },
   "outputs": [],
   "source": [
    "current_csv = '/Users/admin/Downloads/101027_Ctrl_LSJ2_current.csv'"
   ]
  },
  {
   "cell_type": "code",
   "execution_count": 198,
   "metadata": {
    "collapsed": false
   },
   "outputs": [],
   "source": [
    "def get_df_with_lobe(df_raw):\n",
    "\n",
    "    # current_csv : pd.DataFrame of the csv file\n",
    "    # current_csv = pd.read_csv(current_csv)\n",
    "\n",
    "    # cut part with location information\n",
    "    location_df = df_raw[df_raw['Latency [ms]'].str.startswith('Location')]\n",
    "\n",
    "    # make shorter form\n",
    "    location_df = location_df.ix[:,:2]\n",
    "\n",
    "    # extract out strength as a column\n",
    "    location_df['strength'] = location_df['Latency [ms]'].str.extract('Location (\\d+)')\n",
    "\n",
    "    # extract out axis as a column\n",
    "    location_df['axis'] = location_df['Latency [ms]'].str.extract('\\d+ (\\w)')\n",
    "\n",
    "    # make x, y, z axis into columns\n",
    "    location_df = location_df.set_index(['strength','axis']).drop('Latency [ms]', axis=1).stack().unstack(1).reset_index()\n",
    "\n",
    "    # make coord column from x, y, z columns\n",
    "    location_df['coord']=location_df['x'].astype(str) + ',' + location_df['y'].astype(str) + ',' + location_df['z'].astype(str)\n",
    "\n",
    "    # make coord column into list\n",
    "    location_df['list'] = location_df.coord.str.split(',')\n",
    "\n",
    "    # run coord_to_lobe on the coord column\n",
    "    location_df['lobe'] = location_df['list'].map(coord_to_lobe)\n",
    "\n",
    "\n",
    "    return location_df\n"
   ]
  },
  {
   "cell_type": "code",
   "execution_count": 369,
   "metadata": {
    "collapsed": false
   },
   "outputs": [
    {
     "data": {
      "text/plain": [
       "43"
      ]
     },
     "execution_count": 369,
     "metadata": {},
     "output_type": "execute_result"
    }
   ],
   "source": [
    "data[133.1,90.9,42.3]"
   ]
  },
  {
   "cell_type": "code",
   "execution_count": 370,
   "metadata": {
    "collapsed": false
   },
   "outputs": [
    {
     "data": {
      "text/plain": [
       "('Right', 'Temporal Lobe', 'Superior Temporal Gyrus', '*', '*')"
      ]
     },
     "execution_count": 370,
     "metadata": {},
     "output_type": "execute_result"
    }
   ],
   "source": [
    "newDict['43']"
   ]
  },
  {
   "cell_type": "code",
   "execution_count": 392,
   "metadata": {
    "collapsed": false
   },
   "outputs": [],
   "source": [
    "icbm_fsl = [[0.9464, 0.0034, -0.0026, -1.0680],\n",
    "\t\t   [-0.0083, 0.9479, -0.0580, -1.0239],\n",
    "            [0.0053, 0.0617,  0.9010,  3.1883],\n",
    "            [0.0000, 0.0000,  0.0000,  1.0000]]\n",
    "prac = [[0.88,0,0,-0.8],\n",
    "         [0,0.97,0,-3.32],\n",
    "         [0,0.05,0.88,-0.44],\n",
    "         [0,0,0,1]]\n",
    "\n"
   ]
  },
  {
   "cell_type": "code",
   "execution_count": 400,
   "metadata": {
    "collapsed": true
   },
   "outputs": [],
   "source": [
    "a = [55,113,72] - f.affine[:3,3]"
   ]
  },
  {
   "cell_type": "code",
   "execution_count": 401,
   "metadata": {
    "collapsed": false
   },
   "outputs": [
    {
     "data": {
      "text/plain": [
       "array([ 125.,  215.,  114.])"
      ]
     },
     "execution_count": 401,
     "metadata": {},
     "output_type": "execute_result"
    }
   ],
   "source": [
    "f.affine[:3,:3].dot(a)"
   ]
  },
  {
   "cell_type": "code",
   "execution_count": 406,
   "metadata": {
    "collapsed": false
   },
   "outputs": [
    {
     "data": {
      "text/plain": [
       "array([[   1.,    0.,    0.,  -70.],\n",
       "       [   0.,    1.,    0., -102.],\n",
       "       [   0.,    0.,    1.,  -42.],\n",
       "       [   0.,    0.,    0.,    1.]])"
      ]
     },
     "execution_count": 406,
     "metadata": {},
     "output_type": "execute_result"
    }
   ],
   "source": [
    "f.affine"
   ]
  },
  {
   "cell_type": "code",
   "execution_count": 410,
   "metadata": {
    "collapsed": false
   },
   "outputs": [
    {
     "ename": "TypeError",
     "evalue": "'builtin_function_or_method' object is not subscriptable",
     "output_type": "error",
     "traceback": [
      "\u001b[0;31m---------------------------------------------------------------------------\u001b[0m",
      "\u001b[0;31mTypeError\u001b[0m                                 Traceback (most recent call last)",
      "\u001b[0;32m<ipython-input-410-a66bf5625181>\u001b[0m in \u001b[0;36m<module>\u001b[0;34m()\u001b[0m\n\u001b[0;32m----> 1\u001b[0;31m \u001b[0mf\u001b[0m\u001b[0;34m.\u001b[0m\u001b[0mget_affine\u001b[0m\u001b[0;34m(\u001b[0m\u001b[0;34m)\u001b[0m\u001b[0;34m[\u001b[0m\u001b[0;34m:\u001b[0m\u001b[0;36m3\u001b[0m\u001b[0;34m,\u001b[0m\u001b[0;34m:\u001b[0m\u001b[0;36m3\u001b[0m\u001b[0;34m]\u001b[0m\u001b[0;34m.\u001b[0m\u001b[0mdot\u001b[0m\u001b[0;34m(\u001b[0m\u001b[0mnp\u001b[0m\u001b[0;34m.\u001b[0m\u001b[0marray\u001b[0m\u001b[0;34m[\u001b[0m\u001b[0;36m35\u001b[0m\u001b[0;34m,\u001b[0m\u001b[0;34m-\u001b[0m\u001b[0;36m13\u001b[0m\u001b[0;34m,\u001b[0m\u001b[0;36m0\u001b[0m\u001b[0;34m]\u001b[0m\u001b[0;34m)\u001b[0m \u001b[0;34m-\u001b[0m \u001b[0mf\u001b[0m\u001b[0;34m.\u001b[0m\u001b[0mget_affine\u001b[0m\u001b[0;34m(\u001b[0m\u001b[0;34m)\u001b[0m\u001b[0;34m[\u001b[0m\u001b[0;34m:\u001b[0m\u001b[0;36m3\u001b[0m\u001b[0;34m,\u001b[0m\u001b[0;36m3\u001b[0m\u001b[0;34m]\u001b[0m\u001b[0;34m\u001b[0m\u001b[0m\n\u001b[0m",
      "\u001b[0;31mTypeError\u001b[0m: 'builtin_function_or_method' object is not subscriptable"
     ]
    }
   ],
   "source": [
    "f.get_affine()[:3,:3].dot(np.array[35,-13,0]) - f.get_affine()[:3,3]"
   ]
  },
  {
   "cell_type": "code",
   "execution_count": 412,
   "metadata": {
    "collapsed": false
   },
   "outputs": [],
   "source": [
    "M = f.get_affine()[:3,:3]"
   ]
  },
  {
   "cell_type": "code",
   "execution_count": 413,
   "metadata": {
    "collapsed": true
   },
   "outputs": [],
   "source": [
    "abc = f.get_affine()[:3,3]"
   ]
  },
  {
   "cell_type": "code",
   "execution_count": 434,
   "metadata": {
    "collapsed": false
   },
   "outputs": [
    {
     "data": {
      "text/plain": [
       "array([ -35., -115.,  -42.])"
      ]
     },
     "execution_count": 434,
     "metadata": {},
     "output_type": "execute_result"
    }
   ],
   "source": [
    "M.dot(np.array([35,-13,0])+abc)"
   ]
  },
  {
   "cell_type": "code",
   "execution_count": 387,
   "metadata": {
    "collapsed": true
   },
   "outputs": [],
   "source": [
    "np.set_printoptions(precision=6)"
   ]
  },
  {
   "cell_type": "code",
   "execution_count": 388,
   "metadata": {
    "collapsed": false
   },
   "outputs": [
    {
     "data": {
      "text/plain": [
       "array([[   1.,    0.,    0.,  -70.],\n",
       "       [   0.,    1.,    0., -102.],\n",
       "       [   0.,    0.,    1.,  -42.],\n",
       "       [   0.,    0.,    0.,    1.]])"
      ]
     },
     "execution_count": 388,
     "metadata": {},
     "output_type": "execute_result"
    }
   ],
   "source": [
    "f.affine"
   ]
  },
  {
   "cell_type": "code",
   "execution_count": 389,
   "metadata": {
    "collapsed": false
   },
   "outputs": [
    {
     "name": "stdout",
     "output_type": "stream",
     "text": [
      "[ 1.123457]\n"
     ]
    }
   ],
   "source": [
    "print np.array([1.123456789])"
   ]
  },
  {
   "cell_type": "code",
   "execution_count": 375,
   "metadata": {
    "collapsed": false
   },
   "outputs": [],
   "source": [
    "icbm_fsl = np.array(icbm_fsl)"
   ]
  },
  {
   "cell_type": "code",
   "execution_count": 376,
   "metadata": {
    "collapsed": true
   },
   "outputs": [],
   "source": [
    "M_new = icbm_fsl[:3,:3]"
   ]
  },
  {
   "cell_type": "code",
   "execution_count": 377,
   "metadata": {
    "collapsed": false
   },
   "outputs": [
    {
     "data": {
      "text/plain": [
       "array([[ 0.9464,  0.0034, -0.0026],\n",
       "       [-0.0083,  0.9479, -0.058 ],\n",
       "       [ 0.0053,  0.0617,  0.901 ]])"
      ]
     },
     "execution_count": 377,
     "metadata": {},
     "output_type": "execute_result"
    }
   ],
   "source": [
    "M_new"
   ]
  },
  {
   "cell_type": "code",
   "execution_count": 382,
   "metadata": {
    "collapsed": false
   },
   "outputs": [
    {
     "data": {
      "text/plain": [
       "array([  94.8068,  205.6688,  114.0436])"
      ]
     },
     "execution_count": 382,
     "metadata": {},
     "output_type": "execute_result"
    }
   ],
   "source": [
    "M_new.dot([26,114,72])-abc"
   ]
  },
  {
   "cell_type": "code",
   "execution_count": 378,
   "metadata": {
    "collapsed": true
   },
   "outputs": [],
   "source": [
    "abc_new = icbm_fsl[:3,3]"
   ]
  },
  {
   "cell_type": "code",
   "execution_count": 379,
   "metadata": {
    "collapsed": false
   },
   "outputs": [
    {
     "data": {
      "text/plain": [
       "array([-1.068 , -1.0239,  3.1883])"
      ]
     },
     "execution_count": 379,
     "metadata": {},
     "output_type": "execute_result"
    }
   ],
   "source": [
    "abc_new"
   ]
  },
  {
   "cell_type": "code",
   "execution_count": 374,
   "metadata": {
    "collapsed": false
   },
   "outputs": [
    {
     "data": {
      "text/plain": [
       "array([[ 1.,  0.,  0.],\n",
       "       [ 0.,  1.,  0.],\n",
       "       [ 0.,  0.,  1.]])"
      ]
     },
     "execution_count": 374,
     "metadata": {},
     "output_type": "execute_result"
    }
   ],
   "source": [
    "M"
   ]
  },
  {
   "cell_type": "code",
   "execution_count": 364,
   "metadata": {
    "collapsed": true
   },
   "outputs": [],
   "source": [
    "def coord_to_lobe(df,data):\n",
    "    '''\n",
    "    talCoord=[x,y,z]\n",
    "    '''\n",
    "    data\n",
    "    M = data.affine[:3, :3]\n",
    "    abc = data.affine[:3,3]\n",
    "    print M, abc\n",
    "    try:\n",
    "        i,j,k = [float(x) for x in df]\n",
    "\n",
    "        #M = np.array([[ 1.,  0.,  0.],\n",
    "        #              [ 0.,  1.,  0.],\n",
    "        #              [ 0.,  0.,  1.]])\n",
    "\n",
    "        #abc = np.array([ -70., -102.,  -42.])\n",
    "\n",
    "        x,y,z = M.dot([i,j,k]-abc)\n",
    "        print x,y,z\n",
    "        print data[x,y,z]\n",
    "        return newDict[str(data[x,y,z])] #return lobe \n",
    "    #    return data[x,y,z]\n",
    "    #    return newDict[data[x,y,z]]\n",
    "    except:\n",
    "        return 'error'\n",
    "\n",
    "    #('Right', 'Limbic Lobe', 'Cingulate Gyrus', 'White Matter', '*')\n",
    "    \n",
    "    "
   ]
  },
  {
   "cell_type": "code",
   "execution_count": 336,
   "metadata": {
    "collapsed": true
   },
   "outputs": [],
   "source": [
    "def main(args):\n",
    "    current_csv = '/Users/admin/Downloads/101027_Ctrl_LSJ2_current.csv'\n",
    "    df_raw = pd.read_csv(current_csv)\n",
    "    df_with_lobe = get_df_with_lobe(df_raw)\n",
    "    \n",
    "    # Delete unused columns\n",
    "    df_with_lobe = df_with_lobe.drop(['level_1', 'list'],axis=1)\n",
    "    #df_with_lobe['strength'] = df_with_lobe.strength.astype(int)\n",
    "    #df_with_lobe = df_with_lobe.sort('strength')\n",
    "\n",
    "    ## side\n",
    "    if args.side:\n",
    "        df_in_side = df_with_lobe[df_with_lobe.lobe.str[0]==args.side]\n",
    "    else:\n",
    "        df_in_side = df_with_lobe\n",
    "\n",
    "    ## lobe\n",
    "    df_in_side_lobe = df_in_side[df_in_side.lobe.str[1]==args.lobe]\n",
    "    \n",
    "    # time series data for the df_in_side_lobe\n",
    "    df = get_time_series(df_raw,df_in_side_lobe)\n",
    "    \n",
    "    # sort tables \n",
    "    df['strength'] = df['strength'].astype(int)\n",
    "    df = df.sort('strength')\n",
    "    return df#,df_in_side_lobe"
   ]
  },
  {
   "cell_type": "code",
   "execution_count": 337,
   "metadata": {
    "collapsed": true
   },
   "outputs": [],
   "source": [
    "def get_time_series(df_raw,df_in_side_lobe):\n",
    "\n",
    "    # make strength list\n",
    "    strength_list = df_in_side_lobe.strength.tolist()\n",
    "    \n",
    "    strengthTimeSeries = df_raw[df_raw['Latency [ms]'].str.startswith('Strength')]\n",
    "    strengthTimeSeries['strength'] = strengthTimeSeries['Latency [ms]'].str.extract('Strength (\\d+)')\n",
    "    \n",
    "#    df = strengthTimeSeries[strengthTimeSeries.strength.isin(strength_list)]\n",
    "    df = pd.merge(df_in_side_lobe[['strength','coord','lobe']],\n",
    "                  strengthTimeSeries,\n",
    "                  on='strength',\n",
    "                  how='left'\n",
    "                 )\n",
    "    return df"
   ]
  },
  {
   "cell_type": "code",
   "execution_count": 338,
   "metadata": {
    "collapsed": true
   },
   "outputs": [],
   "source": [
    "class args:\n",
    "    def __init__(self):\n",
    "        self.side='Right'\n",
    "        self.lobe='Temporal Lobe'"
   ]
  },
  {
   "cell_type": "code",
   "execution_count": 339,
   "metadata": {
    "collapsed": false
   },
   "outputs": [],
   "source": [
    "prac = args()"
   ]
  },
  {
   "cell_type": "code",
   "execution_count": 340,
   "metadata": {
    "collapsed": false
   },
   "outputs": [
    {
     "data": {
      "text/plain": [
       "'Temporal Lobe'"
      ]
     },
     "execution_count": 340,
     "metadata": {},
     "output_type": "execute_result"
    }
   ],
   "source": [
    "prac.lobe"
   ]
  },
  {
   "cell_type": "code",
   "execution_count": 341,
   "metadata": {
    "collapsed": false
   },
   "outputs": [],
   "source": [
    "df = main(prac)"
   ]
  },
  {
   "cell_type": "code",
   "execution_count": 342,
   "metadata": {
    "collapsed": false
   },
   "outputs": [
    {
     "data": {
      "text/html": [
       "<div style=\"max-height:1000px;max-width:1500px;overflow:auto;\">\n",
       "<table border=\"1\" class=\"dataframe\">\n",
       "  <thead>\n",
       "    <tr style=\"text-align: right;\">\n",
       "      <th></th>\n",
       "      <th>strength</th>\n",
       "      <th>coord</th>\n",
       "      <th>lobe</th>\n",
       "      <th>Latency [ms]</th>\n",
       "      <th> 130.0</th>\n",
       "      <th> 131.0</th>\n",
       "      <th> 132.0</th>\n",
       "      <th> 133.0</th>\n",
       "      <th> 134.0</th>\n",
       "      <th> 135.0</th>\n",
       "      <th>...</th>\n",
       "      <th> 242.0</th>\n",
       "      <th> 243.0</th>\n",
       "      <th> 244.0</th>\n",
       "      <th> 245.0</th>\n",
       "      <th> 246.0</th>\n",
       "      <th> 247.0</th>\n",
       "      <th> 248.0</th>\n",
       "      <th> 249.0</th>\n",
       "      <th> 250.0</th>\n",
       "      <th> </th>\n",
       "    </tr>\n",
       "  </thead>\n",
       "  <tbody>\n",
       "    <tr>\n",
       "      <th>0   </th>\n",
       "      <td> 1</td>\n",
       "      <td>   64.0,-15.4,1.3</td>\n",
       "      <td> (Right, Temporal Lobe, Superior Temporal Gyrus...</td>\n",
       "      <td> Strength 1 [��Amm]</td>\n",
       "      <td> 0.005075</td>\n",
       "      <td> 0.005119</td>\n",
       "      <td> 0.005186</td>\n",
       "      <td> 0.005274</td>\n",
       "      <td> 0.005382</td>\n",
       "      <td> 0.005509</td>\n",
       "      <td>...</td>\n",
       "      <td> 0.004222</td>\n",
       "      <td> 0.004065</td>\n",
       "      <td> 0.003919</td>\n",
       "      <td> 0.003786</td>\n",
       "      <td> 0.003670</td>\n",
       "      <td> 0.003573</td>\n",
       "      <td> 0.003496</td>\n",
       "      <td> 0.003441</td>\n",
       "      <td> 0.003407</td>\n",
       "      <td>  </td>\n",
       "    </tr>\n",
       "    <tr>\n",
       "      <th>598 </th>\n",
       "      <td> 2</td>\n",
       "      <td>  63.9,-19.9,-2.6</td>\n",
       "      <td> (Right, Temporal Lobe, Middle Temporal Gyrus, ...</td>\n",
       "      <td> Strength 2 [��Amm]</td>\n",
       "      <td> 0.003701</td>\n",
       "      <td> 0.003652</td>\n",
       "      <td> 0.003634</td>\n",
       "      <td> 0.003647</td>\n",
       "      <td> 0.003691</td>\n",
       "      <td> 0.003764</td>\n",
       "      <td>...</td>\n",
       "      <td> 0.004155</td>\n",
       "      <td> 0.004040</td>\n",
       "      <td> 0.003929</td>\n",
       "      <td> 0.003823</td>\n",
       "      <td> 0.003726</td>\n",
       "      <td> 0.003638</td>\n",
       "      <td> 0.003563</td>\n",
       "      <td> 0.003501</td>\n",
       "      <td> 0.003454</td>\n",
       "      <td>  </td>\n",
       "    </tr>\n",
       "    <tr>\n",
       "      <th>993 </th>\n",
       "      <td> 3</td>\n",
       "      <td> 63.5,-22.0,-14.7</td>\n",
       "      <td> (Right, Temporal Lobe, Inferior Temporal Gyrus...</td>\n",
       "      <td> Strength 3 [��Amm]</td>\n",
       "      <td> 0.002714</td>\n",
       "      <td> 0.002714</td>\n",
       "      <td> 0.002750</td>\n",
       "      <td> 0.002815</td>\n",
       "      <td> 0.002904</td>\n",
       "      <td> 0.003015</td>\n",
       "      <td>...</td>\n",
       "      <td> 0.004210</td>\n",
       "      <td> 0.004266</td>\n",
       "      <td> 0.004286</td>\n",
       "      <td> 0.004269</td>\n",
       "      <td> 0.004214</td>\n",
       "      <td> 0.004123</td>\n",
       "      <td> 0.003997</td>\n",
       "      <td> 0.003841</td>\n",
       "      <td> 0.003660</td>\n",
       "      <td>  </td>\n",
       "    </tr>\n",
       "    <tr>\n",
       "      <th>1230</th>\n",
       "      <td> 4</td>\n",
       "      <td>  64.0,-21.6,-1.0</td>\n",
       "      <td> (Right, Temporal Lobe, Superior Temporal Gyrus...</td>\n",
       "      <td> Strength 4 [��Amm]</td>\n",
       "      <td> 0.003635</td>\n",
       "      <td> 0.003589</td>\n",
       "      <td> 0.003571</td>\n",
       "      <td> 0.003581</td>\n",
       "      <td> 0.003619</td>\n",
       "      <td> 0.003682</td>\n",
       "      <td>...</td>\n",
       "      <td> 0.004182</td>\n",
       "      <td> 0.004104</td>\n",
       "      <td> 0.004009</td>\n",
       "      <td> 0.003898</td>\n",
       "      <td> 0.003773</td>\n",
       "      <td> 0.003639</td>\n",
       "      <td> 0.003499</td>\n",
       "      <td> 0.003360</td>\n",
       "      <td> 0.003225</td>\n",
       "      <td>  </td>\n",
       "    </tr>\n",
       "    <tr>\n",
       "      <th>1402</th>\n",
       "      <td> 5</td>\n",
       "      <td>   64.1,-21.5,2.3</td>\n",
       "      <td> (Right, Temporal Lobe, Superior Temporal Gyrus...</td>\n",
       "      <td> Strength 5 [��Amm]</td>\n",
       "      <td> 0.003633</td>\n",
       "      <td> 0.003619</td>\n",
       "      <td> 0.003626</td>\n",
       "      <td> 0.003652</td>\n",
       "      <td> 0.003696</td>\n",
       "      <td> 0.003756</td>\n",
       "      <td>...</td>\n",
       "      <td> 0.003792</td>\n",
       "      <td> 0.003705</td>\n",
       "      <td> 0.003616</td>\n",
       "      <td> 0.003527</td>\n",
       "      <td> 0.003440</td>\n",
       "      <td> 0.003358</td>\n",
       "      <td> 0.003282</td>\n",
       "      <td> 0.003215</td>\n",
       "      <td> 0.003160</td>\n",
       "      <td>  </td>\n",
       "    </tr>\n",
       "  </tbody>\n",
       "</table>\n",
       "<p>5 rows × 126 columns</p>\n",
       "</div>"
      ],
      "text/plain": [
       "      strength             coord  \\\n",
       "0            1    64.0,-15.4,1.3   \n",
       "598          2   63.9,-19.9,-2.6   \n",
       "993          3  63.5,-22.0,-14.7   \n",
       "1230         4   64.0,-21.6,-1.0   \n",
       "1402         5    64.1,-21.5,2.3   \n",
       "\n",
       "                                                   lobe        Latency [ms]  \\\n",
       "0     (Right, Temporal Lobe, Superior Temporal Gyrus...  Strength 1 [��Amm]   \n",
       "598   (Right, Temporal Lobe, Middle Temporal Gyrus, ...  Strength 2 [��Amm]   \n",
       "993   (Right, Temporal Lobe, Inferior Temporal Gyrus...  Strength 3 [��Amm]   \n",
       "1230  (Right, Temporal Lobe, Superior Temporal Gyrus...  Strength 4 [��Amm]   \n",
       "1402  (Right, Temporal Lobe, Superior Temporal Gyrus...  Strength 5 [��Amm]   \n",
       "\n",
       "         130.0     131.0     132.0     133.0     134.0     135.0    ...     \\\n",
       "0     0.005075  0.005119  0.005186  0.005274  0.005382  0.005509    ...      \n",
       "598   0.003701  0.003652  0.003634  0.003647  0.003691  0.003764    ...      \n",
       "993   0.002714  0.002714  0.002750  0.002815  0.002904  0.003015    ...      \n",
       "1230  0.003635  0.003589  0.003571  0.003581  0.003619  0.003682    ...      \n",
       "1402  0.003633  0.003619  0.003626  0.003652  0.003696  0.003756    ...      \n",
       "\n",
       "         242.0     243.0     244.0     245.0     246.0     247.0     248.0  \\\n",
       "0     0.004222  0.004065  0.003919  0.003786  0.003670  0.003573  0.003496   \n",
       "598   0.004155  0.004040  0.003929  0.003823  0.003726  0.003638  0.003563   \n",
       "993   0.004210  0.004266  0.004286  0.004269  0.004214  0.004123  0.003997   \n",
       "1230  0.004182  0.004104  0.004009  0.003898  0.003773  0.003639  0.003499   \n",
       "1402  0.003792  0.003705  0.003616  0.003527  0.003440  0.003358  0.003282   \n",
       "\n",
       "         249.0     250.0     \n",
       "0     0.003441  0.003407     \n",
       "598   0.003501  0.003454     \n",
       "993   0.003841  0.003660     \n",
       "1230  0.003360  0.003225     \n",
       "1402  0.003215  0.003160     \n",
       "\n",
       "[5 rows x 126 columns]"
      ]
     },
     "execution_count": 342,
     "metadata": {},
     "output_type": "execute_result"
    }
   ],
   "source": [
    "df.head()"
   ]
  },
  {
   "cell_type": "code",
   "execution_count": 246,
   "metadata": {
    "collapsed": false
   },
   "outputs": [
    {
     "name": "stdout",
     "output_type": "stream",
     "text": [
      "4136\n"
     ]
    }
   ],
   "source": [
    "df_in_temporal = df[df.lobe.str[1]=='Temporal Lobe']\n",
    "df_in_temporal.head()\n",
    "print len(df_in_temporal)"
   ]
  },
  {
   "cell_type": "code",
   "execution_count": 205,
   "metadata": {
    "collapsed": false
   },
   "outputs": [],
   "source": [
    "df['strength'] = df.strength.astype(int)"
   ]
  },
  {
   "cell_type": "code",
   "execution_count": 206,
   "metadata": {
    "collapsed": false
   },
   "outputs": [
    {
     "data": {
      "text/html": [
       "<div style=\"max-height:1000px;max-width:1500px;overflow:auto;\">\n",
       "<table border=\"1\" class=\"dataframe\">\n",
       "  <thead>\n",
       "    <tr style=\"text-align: right;\">\n",
       "      <th>axis</th>\n",
       "      <th>strength</th>\n",
       "      <th>level_1</th>\n",
       "      <th>x</th>\n",
       "      <th>y</th>\n",
       "      <th>z</th>\n",
       "      <th>coord</th>\n",
       "      <th>list</th>\n",
       "      <th>lobe</th>\n",
       "    </tr>\n",
       "  </thead>\n",
       "  <tbody>\n",
       "    <tr>\n",
       "      <th>0    </th>\n",
       "      <td> 1</td>\n",
       "      <td>  130.0</td>\n",
       "      <td> 64.0</td>\n",
       "      <td>-15.4</td>\n",
       "      <td>  1.3</td>\n",
       "      <td>   64.0,-15.4,1.3</td>\n",
       "      <td>   [64.0, -15.4, 1.3]</td>\n",
       "      <td> (Right, Temporal Lobe, Superior Temporal Gyrus...</td>\n",
       "    </tr>\n",
       "    <tr>\n",
       "      <th>11111</th>\n",
       "      <td> 2</td>\n",
       "      <td>  130.0</td>\n",
       "      <td> 63.9</td>\n",
       "      <td>-19.9</td>\n",
       "      <td> -2.6</td>\n",
       "      <td>  63.9,-19.9,-2.6</td>\n",
       "      <td>  [63.9, -19.9, -2.6]</td>\n",
       "      <td> (Right, Temporal Lobe, Middle Temporal Gyrus, ...</td>\n",
       "    </tr>\n",
       "    <tr>\n",
       "      <th>16427</th>\n",
       "      <td> 3</td>\n",
       "      <td>  130.0</td>\n",
       "      <td> 63.5</td>\n",
       "      <td>-22.0</td>\n",
       "      <td>-14.7</td>\n",
       "      <td> 63.5,-22.0,-14.7</td>\n",
       "      <td> [63.5, -22.0, -14.7]</td>\n",
       "      <td> (Right, Temporal Lobe, Inferior Temporal Gyrus...</td>\n",
       "    </tr>\n",
       "    <tr>\n",
       "      <th>17538</th>\n",
       "      <td> 4</td>\n",
       "      <td>  130.0</td>\n",
       "      <td> 64.0</td>\n",
       "      <td>-21.6</td>\n",
       "      <td> -1.0</td>\n",
       "      <td>  64.0,-21.6,-1.0</td>\n",
       "      <td>  [64.0, -21.6, -1.0]</td>\n",
       "      <td> (Right, Temporal Lobe, Superior Temporal Gyrus...</td>\n",
       "    </tr>\n",
       "    <tr>\n",
       "      <th>18649</th>\n",
       "      <td> 5</td>\n",
       "      <td>  130.0</td>\n",
       "      <td> 64.1</td>\n",
       "      <td>-21.5</td>\n",
       "      <td>  2.3</td>\n",
       "      <td>   64.1,-21.5,2.3</td>\n",
       "      <td>   [64.1, -21.5, 2.3]</td>\n",
       "      <td> (Right, Temporal Lobe, Superior Temporal Gyrus...</td>\n",
       "    </tr>\n",
       "  </tbody>\n",
       "</table>\n",
       "</div>"
      ],
      "text/plain": [
       "axis   strength level_1     x     y     z             coord  \\\n",
       "0             1   130.0  64.0 -15.4   1.3    64.0,-15.4,1.3   \n",
       "11111         2   130.0  63.9 -19.9  -2.6   63.9,-19.9,-2.6   \n",
       "16427         3   130.0  63.5 -22.0 -14.7  63.5,-22.0,-14.7   \n",
       "17538         4   130.0  64.0 -21.6  -1.0   64.0,-21.6,-1.0   \n",
       "18649         5   130.0  64.1 -21.5   2.3    64.1,-21.5,2.3   \n",
       "\n",
       "axis                   list                                               lobe  \n",
       "0        [64.0, -15.4, 1.3]  (Right, Temporal Lobe, Superior Temporal Gyrus...  \n",
       "11111   [63.9, -19.9, -2.6]  (Right, Temporal Lobe, Middle Temporal Gyrus, ...  \n",
       "16427  [63.5, -22.0, -14.7]  (Right, Temporal Lobe, Inferior Temporal Gyrus...  \n",
       "17538   [64.0, -21.6, -1.0]  (Right, Temporal Lobe, Superior Temporal Gyrus...  \n",
       "18649    [64.1, -21.5, 2.3]  (Right, Temporal Lobe, Superior Temporal Gyrus...  "
      ]
     },
     "execution_count": 206,
     "metadata": {},
     "output_type": "execute_result"
    }
   ],
   "source": [
    "df.sort('strength').head()"
   ]
  }
 ],
 "metadata": {
  "kernelspec": {
   "display_name": "Python 2",
   "language": "python",
   "name": "python2"
  },
  "language_info": {
   "codemirror_mode": {
    "name": "ipython",
    "version": 2
   },
   "file_extension": ".py",
   "mimetype": "text/x-python",
   "name": "python",
   "nbconvert_exporter": "python",
   "pygments_lexer": "ipython2",
   "version": "2.7.2"
  }
 },
 "nbformat": 4,
 "nbformat_minor": 0
}
